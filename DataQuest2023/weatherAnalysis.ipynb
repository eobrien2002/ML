{
 "cells": [
  {
   "attachments": {},
   "cell_type": "markdown",
   "metadata": {},
   "source": [
    "<h1>Weather Addition Process</h1>"
   ]
  },
  {
   "cell_type": "code",
   "execution_count": 1,
   "metadata": {},
   "outputs": [],
   "source": [
    "#imports\n",
    "import pandas as pd\n",
    "import numpy as np\n",
    "import matplotlib.pyplot as plt\n",
    "import seaborn as sns\n",
    "import datetime\n",
    "import requests\n",
    "import json\n",
    "import re\n",
    "import time\n",
    "import os\n",
    "import sys\n"
   ]
  },
  {
   "cell_type": "code",
   "execution_count": 2,
   "metadata": {},
   "outputs": [],
   "source": [
    "#import the weather data\n",
    "df_weather = pd.read_csv('weather.csv')"
   ]
  },
  {
   "cell_type": "code",
   "execution_count": 3,
   "metadata": {},
   "outputs": [
    {
     "data": {
      "text/html": [
       "<div>\n",
       "<style scoped>\n",
       "    .dataframe tbody tr th:only-of-type {\n",
       "        vertical-align: middle;\n",
       "    }\n",
       "\n",
       "    .dataframe tbody tr th {\n",
       "        vertical-align: top;\n",
       "    }\n",
       "\n",
       "    .dataframe thead th {\n",
       "        text-align: right;\n",
       "    }\n",
       "</style>\n",
       "<table border=\"1\" class=\"dataframe\">\n",
       "  <thead>\n",
       "    <tr style=\"text-align: right;\">\n",
       "      <th></th>\n",
       "      <th>date</th>\n",
       "      <th>maxtemp</th>\n",
       "      <th>mintemp</th>\n",
       "      <th>sunhour</th>\n",
       "      <th>totalsnow</th>\n",
       "    </tr>\n",
       "  </thead>\n",
       "  <tbody>\n",
       "    <tr>\n",
       "      <th>0</th>\n",
       "      <td>2017-01-01</td>\n",
       "      <td>7</td>\n",
       "      <td>-4</td>\n",
       "      <td>8.9</td>\n",
       "      <td>0.0</td>\n",
       "    </tr>\n",
       "    <tr>\n",
       "      <th>1</th>\n",
       "      <td>2017-01-02</td>\n",
       "      <td>7</td>\n",
       "      <td>-2</td>\n",
       "      <td>8.9</td>\n",
       "      <td>0.0</td>\n",
       "    </tr>\n",
       "    <tr>\n",
       "      <th>2</th>\n",
       "      <td>2017-01-03</td>\n",
       "      <td>8</td>\n",
       "      <td>-2</td>\n",
       "      <td>8.5</td>\n",
       "      <td>0.0</td>\n",
       "    </tr>\n",
       "    <tr>\n",
       "      <th>3</th>\n",
       "      <td>2017-01-04</td>\n",
       "      <td>8</td>\n",
       "      <td>-3</td>\n",
       "      <td>8.9</td>\n",
       "      <td>0.0</td>\n",
       "    </tr>\n",
       "    <tr>\n",
       "      <th>4</th>\n",
       "      <td>2017-01-05</td>\n",
       "      <td>5</td>\n",
       "      <td>-2</td>\n",
       "      <td>8.9</td>\n",
       "      <td>0.0</td>\n",
       "    </tr>\n",
       "  </tbody>\n",
       "</table>\n",
       "</div>"
      ],
      "text/plain": [
       "         date  maxtemp  mintemp  sunhour  totalsnow\n",
       "0  2017-01-01        7       -4      8.9        0.0\n",
       "1  2017-01-02        7       -2      8.9        0.0\n",
       "2  2017-01-03        8       -2      8.5        0.0\n",
       "3  2017-01-04        8       -3      8.9        0.0\n",
       "4  2017-01-05        5       -2      8.9        0.0"
      ]
     },
     "execution_count": 3,
     "metadata": {},
     "output_type": "execute_result"
    }
   ],
   "source": [
    "df_weather.head()"
   ]
  },
  {
   "cell_type": "code",
   "execution_count": 4,
   "metadata": {},
   "outputs": [
    {
     "data": {
      "text/plain": [
       "Index(['Unnamed: 0', 'LeadTime', 'ArrivalYear', 'ArrivalMonth', 'ArrivalDate',\n",
       "       'NumWeekendNights', 'NumWeekNights', 'Parking', 'NumAdults',\n",
       "       'NumChildren', 'RepeatedGuest', 'NumPrevCancellations',\n",
       "       'NumPreviousNonCancelled', 'AvgRoomPrice', 'SpecialRequests',\n",
       "       'isCanceled', 'RoomType_Room_Type 1', 'RoomType_Room_Type 2',\n",
       "       'RoomType_Room_Type 3', 'RoomType_Room_Type 4', 'RoomType_Room_Type 5',\n",
       "       'RoomType_Room_Type 6', 'RoomType_Room_Type 7', 'MealPlan_Meal Plan 1',\n",
       "       'MealPlan_Meal Plan 2', 'MealPlan_Not Selected',\n",
       "       'MarketSegment_Aviation', 'MarketSegment_Complementary',\n",
       "       'MarketSegment_Corporate', 'MarketSegment_Offline',\n",
       "       'MarketSegment_Online'],\n",
       "      dtype='object')"
      ]
     },
     "execution_count": 4,
     "metadata": {},
     "output_type": "execute_result"
    }
   ],
   "source": [
    "#put the file to be added to in here\n",
    "df_data = pd.read_csv('df_test_final.csv')\n",
    "\n",
    "\n",
    "df_data.columns"
   ]
  },
  {
   "attachments": {},
   "cell_type": "markdown",
   "metadata": {},
   "source": [
    "<p>The following section normalizes the date type for the two files</p>"
   ]
  },
  {
   "cell_type": "code",
   "execution_count": 5,
   "metadata": {},
   "outputs": [],
   "source": [
    "#comnine year month and date into one column \n",
    "day = df_data['ArrivalDate']\n",
    "year = df_data['ArrivalYear']\n",
    "month = df_data['ArrivalMonth']"
   ]
  },
  {
   "cell_type": "code",
   "execution_count": 6,
   "metadata": {},
   "outputs": [],
   "source": [
    "dates = []\n",
    "for i in range(0, len(day)):\n",
    "    if day[i] < 10:\n",
    "        if month[i] < 10:\n",
    "            dates.append(str(year[i])+'-0'+str(month[i])+'-0'+str(day[i]))\n",
    "        else:\n",
    "            dates.append(str(year[i])+'-'+str(month[i])+'-0'+str(day[i]))\n",
    "    else:\n",
    "        if month[i] < 10:\n",
    "            dates.append(str(year[i])+'-0'+str(month[i])+'-'+str(day[i]))\n",
    "        else:\n",
    "            dates.append(str(year[i])+'-'+str(month[i])+'-'+str(day[i]))\n"
   ]
  },
  {
   "cell_type": "code",
   "execution_count": 7,
   "metadata": {},
   "outputs": [],
   "source": [
    "df_data['date'] = dates"
   ]
  },
  {
   "cell_type": "code",
   "execution_count": 8,
   "metadata": {},
   "outputs": [],
   "source": [
    "#drop rows with \"2018-02-28\"\n",
    "df_weather = df_weather[df_weather['date'] != '2017-02-28']"
   ]
  },
  {
   "cell_type": "code",
   "execution_count": 9,
   "metadata": {},
   "outputs": [],
   "source": [
    "#make the date columns into the same type string\n",
    "df_weather['date'] = df_weather['date'].astype(str)\n",
    "df_data['date'] = df_data['date'].astype(str)\n",
    "\n",
    "\n"
   ]
  },
  {
   "attachments": {},
   "cell_type": "markdown",
   "metadata": {},
   "source": [
    "<p>Merge the two data frames</p>"
   ]
  },
  {
   "cell_type": "code",
   "execution_count": 10,
   "metadata": {},
   "outputs": [],
   "source": [
    "#CHECK for any matched dates\n",
    "merged_df = pd.merge(df_data, df_weather, on='date', how='left')"
   ]
  },
  {
   "cell_type": "code",
   "execution_count": 11,
   "metadata": {},
   "outputs": [],
   "source": [
    "#drop Identical rows\n",
    "merged_df = merged_df.drop_duplicates()"
   ]
  },
  {
   "cell_type": "code",
   "execution_count": 12,
   "metadata": {},
   "outputs": [
    {
     "data": {
      "text/plain": [
       "(7255, 36)"
      ]
     },
     "execution_count": 12,
     "metadata": {},
     "output_type": "execute_result"
    }
   ],
   "source": [
    "merged_df.shape"
   ]
  },
  {
   "cell_type": "code",
   "execution_count": 13,
   "metadata": {},
   "outputs": [],
   "source": [
    "#drop unnamed column\n",
    "merged_df = merged_df.drop(['Unnamed: 0'], axis=1)"
   ]
  },
  {
   "cell_type": "code",
   "execution_count": 14,
   "metadata": {},
   "outputs": [
    {
     "data": {
      "text/plain": [
       "Index(['LeadTime', 'ArrivalYear', 'ArrivalMonth', 'ArrivalDate',\n",
       "       'NumWeekendNights', 'NumWeekNights', 'Parking', 'NumAdults',\n",
       "       'NumChildren', 'RepeatedGuest', 'NumPrevCancellations',\n",
       "       'NumPreviousNonCancelled', 'AvgRoomPrice', 'SpecialRequests',\n",
       "       'isCanceled', 'RoomType_Room_Type 1', 'RoomType_Room_Type 2',\n",
       "       'RoomType_Room_Type 3', 'RoomType_Room_Type 4', 'RoomType_Room_Type 5',\n",
       "       'RoomType_Room_Type 6', 'RoomType_Room_Type 7', 'MealPlan_Meal Plan 1',\n",
       "       'MealPlan_Meal Plan 2', 'MealPlan_Not Selected',\n",
       "       'MarketSegment_Aviation', 'MarketSegment_Complementary',\n",
       "       'MarketSegment_Corporate', 'MarketSegment_Offline',\n",
       "       'MarketSegment_Online', 'date', 'maxtemp', 'mintemp', 'sunhour',\n",
       "       'totalsnow'],\n",
       "      dtype='object')"
      ]
     },
     "execution_count": 14,
     "metadata": {},
     "output_type": "execute_result"
    }
   ],
   "source": [
    "merged_df.columns"
   ]
  },
  {
   "cell_type": "code",
   "execution_count": 15,
   "metadata": {},
   "outputs": [],
   "source": [
    "#print to csv \n",
    "merged_df.to_csv('df_test_final_weathered.csv')"
   ]
  }
 ],
 "metadata": {
  "kernelspec": {
   "display_name": "venv",
   "language": "python",
   "name": "python3"
  },
  "language_info": {
   "codemirror_mode": {
    "name": "ipython",
    "version": 3
   },
   "file_extension": ".py",
   "mimetype": "text/x-python",
   "name": "python",
   "nbconvert_exporter": "python",
   "pygments_lexer": "ipython3",
   "version": "3.8.0"
  },
  "orig_nbformat": 4
 },
 "nbformat": 4,
 "nbformat_minor": 2
}
