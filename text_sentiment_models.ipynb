{
 "cells": [
  {
   "attachments": {},
   "cell_type": "markdown",
   "metadata": {},
   "source": [
    "# Introduction\n",
    "\n",
    "The goal of this analysis is to build and explore different sentiment analysis models. I will use the following models:\n",
    "\n",
    "- Naive Bayes Classifier\n",
    "- LTSM\n",
    "- CNN\n",
    "- CNN-LTSM with Word2Vec\n",
    "\n"
   ]
  },
  {
   "cell_type": "code",
   "execution_count": 3,
   "metadata": {},
   "outputs": [],
   "source": [
    "import pandas as pd\n",
    "import numpy as np\n",
    "from matplotlib import pyplot as plt\n",
    "import seaborn as sns"
   ]
  },
  {
   "cell_type": "code",
   "execution_count": 4,
   "metadata": {},
   "outputs": [
    {
     "data": {
      "text/html": [
       "<div>\n",
       "<style scoped>\n",
       "    .dataframe tbody tr th:only-of-type {\n",
       "        vertical-align: middle;\n",
       "    }\n",
       "\n",
       "    .dataframe tbody tr th {\n",
       "        vertical-align: top;\n",
       "    }\n",
       "\n",
       "    .dataframe thead th {\n",
       "        text-align: right;\n",
       "    }\n",
       "</style>\n",
       "<table border=\"1\" class=\"dataframe\">\n",
       "  <thead>\n",
       "    <tr style=\"text-align: right;\">\n",
       "      <th></th>\n",
       "      <th>id</th>\n",
       "      <th>Message</th>\n",
       "      <th>length</th>\n",
       "      <th>country</th>\n",
       "      <th>Date</th>\n",
       "    </tr>\n",
       "  </thead>\n",
       "  <tbody>\n",
       "    <tr>\n",
       "      <th>0</th>\n",
       "      <td>10120</td>\n",
       "      <td>Bugis oso near wat...</td>\n",
       "      <td>21</td>\n",
       "      <td>SG</td>\n",
       "      <td>2003/4</td>\n",
       "    </tr>\n",
       "    <tr>\n",
       "      <th>1</th>\n",
       "      <td>10121</td>\n",
       "      <td>Go until jurong point, crazy.. Available only ...</td>\n",
       "      <td>111</td>\n",
       "      <td>SG</td>\n",
       "      <td>2003/4</td>\n",
       "    </tr>\n",
       "    <tr>\n",
       "      <th>2</th>\n",
       "      <td>10122</td>\n",
       "      <td>I dunno until when... Lets go learn pilates...</td>\n",
       "      <td>46</td>\n",
       "      <td>SG</td>\n",
       "      <td>2003/4</td>\n",
       "    </tr>\n",
       "    <tr>\n",
       "      <th>3</th>\n",
       "      <td>10123</td>\n",
       "      <td>Den only weekdays got special price... Haiz......</td>\n",
       "      <td>140</td>\n",
       "      <td>SG</td>\n",
       "      <td>2003/4</td>\n",
       "    </tr>\n",
       "    <tr>\n",
       "      <th>4</th>\n",
       "      <td>10124</td>\n",
       "      <td>Meet after lunch la...</td>\n",
       "      <td>22</td>\n",
       "      <td>SG</td>\n",
       "      <td>2003/4</td>\n",
       "    </tr>\n",
       "  </tbody>\n",
       "</table>\n",
       "</div>"
      ],
      "text/plain": [
       "      id                                            Message length country  \\\n",
       "0  10120                              Bugis oso near wat...     21      SG   \n",
       "1  10121  Go until jurong point, crazy.. Available only ...    111      SG   \n",
       "2  10122     I dunno until when... Lets go learn pilates...     46      SG   \n",
       "3  10123  Den only weekdays got special price... Haiz......    140      SG   \n",
       "4  10124                             Meet after lunch la...     22      SG   \n",
       "\n",
       "     Date  \n",
       "0  2003/4  \n",
       "1  2003/4  \n",
       "2  2003/4  \n",
       "3  2003/4  \n",
       "4  2003/4  "
      ]
     },
     "execution_count": 4,
     "metadata": {},
     "output_type": "execute_result"
    }
   ],
   "source": [
    "# Import the SMS data as a pandas DataFrame\n",
    "df = pd.read_csv('clean_nus_sms.csv', index_col=0)\n",
    "df.head()"
   ]
  },
  {
   "cell_type": "code",
   "execution_count": 5,
   "metadata": {},
   "outputs": [
    {
     "name": "stdout",
     "output_type": "stream",
     "text": [
      "<class 'pandas.core.frame.DataFrame'>\n",
      "Int64Index: 48598 entries, 0 to 55834\n",
      "Data columns (total 5 columns):\n",
      " #   Column   Non-Null Count  Dtype \n",
      "---  ------   --------------  ----- \n",
      " 0   id       48598 non-null  int64 \n",
      " 1   Message  48595 non-null  object\n",
      " 2   length   48598 non-null  object\n",
      " 3   country  48598 non-null  object\n",
      " 4   Date     48598 non-null  object\n",
      "dtypes: int64(1), object(4)\n",
      "memory usage: 2.2+ MB\n"
     ]
    }
   ],
   "source": [
    "df.info()\n"
   ]
  },
  {
   "attachments": {},
   "cell_type": "markdown",
   "metadata": {},
   "source": [
    "Lets drop the null message rows"
   ]
  },
  {
   "cell_type": "code",
   "execution_count": 6,
   "metadata": {},
   "outputs": [],
   "source": [
    "df.dropna(subset='Message',inplace=True)"
   ]
  },
  {
   "attachments": {},
   "cell_type": "markdown",
   "metadata": {},
   "source": [
    "# Pre-processing\n"
   ]
  },
  {
   "attachments": {},
   "cell_type": "markdown",
   "metadata": {},
   "source": [
    "### Lowercase string"
   ]
  },
  {
   "cell_type": "code",
   "execution_count": 7,
   "metadata": {},
   "outputs": [
    {
     "data": {
      "text/html": [
       "<div>\n",
       "<style scoped>\n",
       "    .dataframe tbody tr th:only-of-type {\n",
       "        vertical-align: middle;\n",
       "    }\n",
       "\n",
       "    .dataframe tbody tr th {\n",
       "        vertical-align: top;\n",
       "    }\n",
       "\n",
       "    .dataframe thead th {\n",
       "        text-align: right;\n",
       "    }\n",
       "</style>\n",
       "<table border=\"1\" class=\"dataframe\">\n",
       "  <thead>\n",
       "    <tr style=\"text-align: right;\">\n",
       "      <th></th>\n",
       "      <th>id</th>\n",
       "      <th>Message</th>\n",
       "      <th>length</th>\n",
       "      <th>country</th>\n",
       "      <th>Date</th>\n",
       "      <th>clean_message</th>\n",
       "    </tr>\n",
       "  </thead>\n",
       "  <tbody>\n",
       "    <tr>\n",
       "      <th>0</th>\n",
       "      <td>10120</td>\n",
       "      <td>Bugis oso near wat...</td>\n",
       "      <td>21</td>\n",
       "      <td>SG</td>\n",
       "      <td>2003/4</td>\n",
       "      <td>bugis oso near wat...</td>\n",
       "    </tr>\n",
       "    <tr>\n",
       "      <th>1</th>\n",
       "      <td>10121</td>\n",
       "      <td>Go until jurong point, crazy.. Available only ...</td>\n",
       "      <td>111</td>\n",
       "      <td>SG</td>\n",
       "      <td>2003/4</td>\n",
       "      <td>go until jurong point, crazy.. available only ...</td>\n",
       "    </tr>\n",
       "    <tr>\n",
       "      <th>2</th>\n",
       "      <td>10122</td>\n",
       "      <td>I dunno until when... Lets go learn pilates...</td>\n",
       "      <td>46</td>\n",
       "      <td>SG</td>\n",
       "      <td>2003/4</td>\n",
       "      <td>i dunno until when... lets go learn pilates...</td>\n",
       "    </tr>\n",
       "    <tr>\n",
       "      <th>3</th>\n",
       "      <td>10123</td>\n",
       "      <td>Den only weekdays got special price... Haiz......</td>\n",
       "      <td>140</td>\n",
       "      <td>SG</td>\n",
       "      <td>2003/4</td>\n",
       "      <td>den only weekdays got special price... haiz......</td>\n",
       "    </tr>\n",
       "    <tr>\n",
       "      <th>4</th>\n",
       "      <td>10124</td>\n",
       "      <td>Meet after lunch la...</td>\n",
       "      <td>22</td>\n",
       "      <td>SG</td>\n",
       "      <td>2003/4</td>\n",
       "      <td>meet after lunch la...</td>\n",
       "    </tr>\n",
       "  </tbody>\n",
       "</table>\n",
       "</div>"
      ],
      "text/plain": [
       "      id                                            Message length country  \\\n",
       "0  10120                              Bugis oso near wat...     21      SG   \n",
       "1  10121  Go until jurong point, crazy.. Available only ...    111      SG   \n",
       "2  10122     I dunno until when... Lets go learn pilates...     46      SG   \n",
       "3  10123  Den only weekdays got special price... Haiz......    140      SG   \n",
       "4  10124                             Meet after lunch la...     22      SG   \n",
       "\n",
       "     Date                                      clean_message  \n",
       "0  2003/4                              bugis oso near wat...  \n",
       "1  2003/4  go until jurong point, crazy.. available only ...  \n",
       "2  2003/4     i dunno until when... lets go learn pilates...  \n",
       "3  2003/4  den only weekdays got special price... haiz......  \n",
       "4  2003/4                             meet after lunch la...  "
      ]
     },
     "execution_count": 7,
     "metadata": {},
     "output_type": "execute_result"
    }
   ],
   "source": [
    "#first lets make all messages lowercase\n",
    "\n",
    "df['clean_message']=df.Message.apply(lambda x: x.lower())\n",
    "df.head()"
   ]
  },
  {
   "attachments": {},
   "cell_type": "markdown",
   "metadata": {},
   "source": [
    "### Remove punctuation"
   ]
  },
  {
   "cell_type": "code",
   "execution_count": 8,
   "metadata": {},
   "outputs": [],
   "source": [
    "#Now lets remove all punctuation."
   ]
  },
  {
   "attachments": {},
   "cell_type": "markdown",
   "metadata": {},
   "source": [
    "### Remove stopwords\n",
    "\n",
    "Although removing stopwords is usually helpful for understanding the entities in text, for sentiment analysis it could make it more difficult to understand the meaning."
   ]
  },
  {
   "cell_type": "code",
   "execution_count": 9,
   "metadata": {},
   "outputs": [
    {
     "data": {
      "text/plain": [
       "\"i, me, my, myself, we, our, ours, ourselves, you, you're, you've, you'll, you'd, your, yours, yourself, yourselves, he, him, his, himself, she, she's, her, hers, herself, it, it's, its, itself, they, them, their, theirs, themselves, what, which, who, whom, this, that, that'll, these, those, am, is, are, was, were, be, been, being, have, has, had, having, do, does, did, doing, a, an, the, and, but, if, or, because, as, until, while, of, at, by, for, with, about, against, between, into, through, during, before, after, above, below, to, from, up, down, in, out, on, off, over, under, again, further, then, once, here, there, when, where, why, how, all, any, both, each, few, more, most, other, some, such, no, nor, not, only, own, same, so, than, too, very, s, t, can, will, just, don, don't, should, should've, now, d, ll, m, o, re, ve, y, ain, aren, aren't, couldn, couldn't, didn, didn't, doesn, doesn't, hadn, hadn't, hasn, hasn't, haven, haven't, isn, isn't, ma, mightn, mightn't, mustn, mustn't, needn, needn't, shan, shan't, shouldn, shouldn't, wasn, wasn't, weren, weren't, won, won't, wouldn, wouldn't\""
      ]
     },
     "execution_count": 9,
     "metadata": {},
     "output_type": "execute_result"
    }
   ],
   "source": [
    "from nltk.corpus import stopwords\n",
    "\n",
    "# View stopwords in english\n",
    "\", \".join(stopwords.words('english'))"
   ]
  },
  {
   "attachments": {},
   "cell_type": "markdown",
   "metadata": {},
   "source": [
    "I will not remove stopwords here"
   ]
  },
  {
   "attachments": {},
   "cell_type": "markdown",
   "metadata": {},
   "source": [
    "### Remove URLs\n",
    "\n",
    "These are not needed in my opinion"
   ]
  },
  {
   "cell_type": "code",
   "execution_count": 10,
   "metadata": {},
   "outputs": [],
   "source": [
    "#Using regular expressions to remove any URLs\n",
    "import re\n",
    "def remove_urls(text):\n",
    "    url_pattern = re.compile(r'https?://\\S+|www\\.\\S+')\n",
    "    return url_pattern.sub(r'', text)"
   ]
  },
  {
   "cell_type": "code",
   "execution_count": 11,
   "metadata": {},
   "outputs": [
    {
     "data": {
      "text/html": [
       "<div>\n",
       "<style scoped>\n",
       "    .dataframe tbody tr th:only-of-type {\n",
       "        vertical-align: middle;\n",
       "    }\n",
       "\n",
       "    .dataframe tbody tr th {\n",
       "        vertical-align: top;\n",
       "    }\n",
       "\n",
       "    .dataframe thead th {\n",
       "        text-align: right;\n",
       "    }\n",
       "</style>\n",
       "<table border=\"1\" class=\"dataframe\">\n",
       "  <thead>\n",
       "    <tr style=\"text-align: right;\">\n",
       "      <th></th>\n",
       "      <th>id</th>\n",
       "      <th>Message</th>\n",
       "      <th>length</th>\n",
       "      <th>country</th>\n",
       "      <th>Date</th>\n",
       "      <th>clean_message</th>\n",
       "    </tr>\n",
       "  </thead>\n",
       "  <tbody>\n",
       "    <tr>\n",
       "      <th>0</th>\n",
       "      <td>10120</td>\n",
       "      <td>Bugis oso near wat...</td>\n",
       "      <td>21</td>\n",
       "      <td>SG</td>\n",
       "      <td>2003/4</td>\n",
       "      <td>bugis oso near wat...</td>\n",
       "    </tr>\n",
       "    <tr>\n",
       "      <th>1</th>\n",
       "      <td>10121</td>\n",
       "      <td>Go until jurong point, crazy.. Available only ...</td>\n",
       "      <td>111</td>\n",
       "      <td>SG</td>\n",
       "      <td>2003/4</td>\n",
       "      <td>go until jurong point, crazy.. available only ...</td>\n",
       "    </tr>\n",
       "    <tr>\n",
       "      <th>2</th>\n",
       "      <td>10122</td>\n",
       "      <td>I dunno until when... Lets go learn pilates...</td>\n",
       "      <td>46</td>\n",
       "      <td>SG</td>\n",
       "      <td>2003/4</td>\n",
       "      <td>i dunno until when... lets go learn pilates...</td>\n",
       "    </tr>\n",
       "    <tr>\n",
       "      <th>3</th>\n",
       "      <td>10123</td>\n",
       "      <td>Den only weekdays got special price... Haiz......</td>\n",
       "      <td>140</td>\n",
       "      <td>SG</td>\n",
       "      <td>2003/4</td>\n",
       "      <td>den only weekdays got special price... haiz......</td>\n",
       "    </tr>\n",
       "    <tr>\n",
       "      <th>4</th>\n",
       "      <td>10124</td>\n",
       "      <td>Meet after lunch la...</td>\n",
       "      <td>22</td>\n",
       "      <td>SG</td>\n",
       "      <td>2003/4</td>\n",
       "      <td>meet after lunch la...</td>\n",
       "    </tr>\n",
       "  </tbody>\n",
       "</table>\n",
       "</div>"
      ],
      "text/plain": [
       "      id                                            Message length country  \\\n",
       "0  10120                              Bugis oso near wat...     21      SG   \n",
       "1  10121  Go until jurong point, crazy.. Available only ...    111      SG   \n",
       "2  10122     I dunno until when... Lets go learn pilates...     46      SG   \n",
       "3  10123  Den only weekdays got special price... Haiz......    140      SG   \n",
       "4  10124                             Meet after lunch la...     22      SG   \n",
       "\n",
       "     Date                                      clean_message  \n",
       "0  2003/4                              bugis oso near wat...  \n",
       "1  2003/4  go until jurong point, crazy.. available only ...  \n",
       "2  2003/4     i dunno until when... lets go learn pilates...  \n",
       "3  2003/4  den only weekdays got special price... haiz......  \n",
       "4  2003/4                             meet after lunch la...  "
      ]
     },
     "execution_count": 11,
     "metadata": {},
     "output_type": "execute_result"
    }
   ],
   "source": [
    "df.clean_message = df.clean_message.apply(lambda text: remove_urls(text))\n",
    "\n",
    "df.head()"
   ]
  },
  {
   "attachments": {},
   "cell_type": "markdown",
   "metadata": {},
   "source": [
    "### Remove HTML tags\n",
    "\n",
    "Again, these are not needed and I will remove them... if there are any"
   ]
  },
  {
   "cell_type": "code",
   "execution_count": 12,
   "metadata": {},
   "outputs": [],
   "source": [
    "def remove_html(text):\n",
    "    html_pattern = re.compile('<.*?>')\n",
    "    return html_pattern.sub(r'', text)"
   ]
  },
  {
   "cell_type": "code",
   "execution_count": 13,
   "metadata": {},
   "outputs": [
    {
     "data": {
      "text/html": [
       "<div>\n",
       "<style scoped>\n",
       "    .dataframe tbody tr th:only-of-type {\n",
       "        vertical-align: middle;\n",
       "    }\n",
       "\n",
       "    .dataframe tbody tr th {\n",
       "        vertical-align: top;\n",
       "    }\n",
       "\n",
       "    .dataframe thead th {\n",
       "        text-align: right;\n",
       "    }\n",
       "</style>\n",
       "<table border=\"1\" class=\"dataframe\">\n",
       "  <thead>\n",
       "    <tr style=\"text-align: right;\">\n",
       "      <th></th>\n",
       "      <th>id</th>\n",
       "      <th>Message</th>\n",
       "      <th>length</th>\n",
       "      <th>country</th>\n",
       "      <th>Date</th>\n",
       "      <th>clean_message</th>\n",
       "    </tr>\n",
       "  </thead>\n",
       "  <tbody>\n",
       "    <tr>\n",
       "      <th>0</th>\n",
       "      <td>10120</td>\n",
       "      <td>Bugis oso near wat...</td>\n",
       "      <td>21</td>\n",
       "      <td>SG</td>\n",
       "      <td>2003/4</td>\n",
       "      <td>bugis oso near wat...</td>\n",
       "    </tr>\n",
       "    <tr>\n",
       "      <th>1</th>\n",
       "      <td>10121</td>\n",
       "      <td>Go until jurong point, crazy.. Available only ...</td>\n",
       "      <td>111</td>\n",
       "      <td>SG</td>\n",
       "      <td>2003/4</td>\n",
       "      <td>go until jurong point, crazy.. available only ...</td>\n",
       "    </tr>\n",
       "    <tr>\n",
       "      <th>2</th>\n",
       "      <td>10122</td>\n",
       "      <td>I dunno until when... Lets go learn pilates...</td>\n",
       "      <td>46</td>\n",
       "      <td>SG</td>\n",
       "      <td>2003/4</td>\n",
       "      <td>i dunno until when... lets go learn pilates...</td>\n",
       "    </tr>\n",
       "    <tr>\n",
       "      <th>3</th>\n",
       "      <td>10123</td>\n",
       "      <td>Den only weekdays got special price... Haiz......</td>\n",
       "      <td>140</td>\n",
       "      <td>SG</td>\n",
       "      <td>2003/4</td>\n",
       "      <td>den only weekdays got special price... haiz......</td>\n",
       "    </tr>\n",
       "    <tr>\n",
       "      <th>4</th>\n",
       "      <td>10124</td>\n",
       "      <td>Meet after lunch la...</td>\n",
       "      <td>22</td>\n",
       "      <td>SG</td>\n",
       "      <td>2003/4</td>\n",
       "      <td>meet after lunch la...</td>\n",
       "    </tr>\n",
       "  </tbody>\n",
       "</table>\n",
       "</div>"
      ],
      "text/plain": [
       "      id                                            Message length country  \\\n",
       "0  10120                              Bugis oso near wat...     21      SG   \n",
       "1  10121  Go until jurong point, crazy.. Available only ...    111      SG   \n",
       "2  10122     I dunno until when... Lets go learn pilates...     46      SG   \n",
       "3  10123  Den only weekdays got special price... Haiz......    140      SG   \n",
       "4  10124                             Meet after lunch la...     22      SG   \n",
       "\n",
       "     Date                                      clean_message  \n",
       "0  2003/4                              bugis oso near wat...  \n",
       "1  2003/4  go until jurong point, crazy.. available only ...  \n",
       "2  2003/4     i dunno until when... lets go learn pilates...  \n",
       "3  2003/4  den only weekdays got special price... haiz......  \n",
       "4  2003/4                             meet after lunch la...  "
      ]
     },
     "execution_count": 13,
     "metadata": {},
     "output_type": "execute_result"
    }
   ],
   "source": [
    "df.clean_message = df.clean_message.apply(lambda text: remove_html(text))\n",
    "\n",
    "df.head()"
   ]
  },
  {
   "attachments": {},
   "cell_type": "markdown",
   "metadata": {},
   "source": [
    "### Tokenize the messages"
   ]
  },
  {
   "cell_type": "code",
   "execution_count": 14,
   "metadata": {},
   "outputs": [
    {
     "name": "stderr",
     "output_type": "stream",
     "text": [
      "[nltk_data] Downloading package punkt to\n",
      "[nltk_data]     C:\\Users\\eobri\\AppData\\Roaming\\nltk_data...\n",
      "[nltk_data]   Package punkt is already up-to-date!\n"
     ]
    },
    {
     "data": {
      "text/html": [
       "<div>\n",
       "<style scoped>\n",
       "    .dataframe tbody tr th:only-of-type {\n",
       "        vertical-align: middle;\n",
       "    }\n",
       "\n",
       "    .dataframe tbody tr th {\n",
       "        vertical-align: top;\n",
       "    }\n",
       "\n",
       "    .dataframe thead th {\n",
       "        text-align: right;\n",
       "    }\n",
       "</style>\n",
       "<table border=\"1\" class=\"dataframe\">\n",
       "  <thead>\n",
       "    <tr style=\"text-align: right;\">\n",
       "      <th></th>\n",
       "      <th>id</th>\n",
       "      <th>Message</th>\n",
       "      <th>length</th>\n",
       "      <th>country</th>\n",
       "      <th>Date</th>\n",
       "      <th>clean_message</th>\n",
       "      <th>message_tokenized</th>\n",
       "    </tr>\n",
       "  </thead>\n",
       "  <tbody>\n",
       "    <tr>\n",
       "      <th>0</th>\n",
       "      <td>10120</td>\n",
       "      <td>Bugis oso near wat...</td>\n",
       "      <td>21</td>\n",
       "      <td>SG</td>\n",
       "      <td>2003/4</td>\n",
       "      <td>bugis oso near wat...</td>\n",
       "      <td>[bugis, oso, near, wat, ...]</td>\n",
       "    </tr>\n",
       "    <tr>\n",
       "      <th>1</th>\n",
       "      <td>10121</td>\n",
       "      <td>Go until jurong point, crazy.. Available only ...</td>\n",
       "      <td>111</td>\n",
       "      <td>SG</td>\n",
       "      <td>2003/4</td>\n",
       "      <td>go until jurong point, crazy.. available only ...</td>\n",
       "      <td>[go, until, jurong, point, ,, crazy, .., avail...</td>\n",
       "    </tr>\n",
       "    <tr>\n",
       "      <th>2</th>\n",
       "      <td>10122</td>\n",
       "      <td>I dunno until when... Lets go learn pilates...</td>\n",
       "      <td>46</td>\n",
       "      <td>SG</td>\n",
       "      <td>2003/4</td>\n",
       "      <td>i dunno until when... lets go learn pilates...</td>\n",
       "      <td>[i, dunno, until, when, ..., lets, go, learn, ...</td>\n",
       "    </tr>\n",
       "    <tr>\n",
       "      <th>3</th>\n",
       "      <td>10123</td>\n",
       "      <td>Den only weekdays got special price... Haiz......</td>\n",
       "      <td>140</td>\n",
       "      <td>SG</td>\n",
       "      <td>2003/4</td>\n",
       "      <td>den only weekdays got special price... haiz......</td>\n",
       "      <td>[den, only, weekdays, got, special, price, ......</td>\n",
       "    </tr>\n",
       "    <tr>\n",
       "      <th>4</th>\n",
       "      <td>10124</td>\n",
       "      <td>Meet after lunch la...</td>\n",
       "      <td>22</td>\n",
       "      <td>SG</td>\n",
       "      <td>2003/4</td>\n",
       "      <td>meet after lunch la...</td>\n",
       "      <td>[meet, after, lunch, la, ...]</td>\n",
       "    </tr>\n",
       "  </tbody>\n",
       "</table>\n",
       "</div>"
      ],
      "text/plain": [
       "      id                                            Message length country  \\\n",
       "0  10120                              Bugis oso near wat...     21      SG   \n",
       "1  10121  Go until jurong point, crazy.. Available only ...    111      SG   \n",
       "2  10122     I dunno until when... Lets go learn pilates...     46      SG   \n",
       "3  10123  Den only weekdays got special price... Haiz......    140      SG   \n",
       "4  10124                             Meet after lunch la...     22      SG   \n",
       "\n",
       "     Date                                      clean_message  \\\n",
       "0  2003/4                              bugis oso near wat...   \n",
       "1  2003/4  go until jurong point, crazy.. available only ...   \n",
       "2  2003/4     i dunno until when... lets go learn pilates...   \n",
       "3  2003/4  den only weekdays got special price... haiz......   \n",
       "4  2003/4                             meet after lunch la...   \n",
       "\n",
       "                                   message_tokenized  \n",
       "0                       [bugis, oso, near, wat, ...]  \n",
       "1  [go, until, jurong, point, ,, crazy, .., avail...  \n",
       "2  [i, dunno, until, when, ..., lets, go, learn, ...  \n",
       "3  [den, only, weekdays, got, special, price, ......  \n",
       "4                      [meet, after, lunch, la, ...]  "
      ]
     },
     "execution_count": 14,
     "metadata": {},
     "output_type": "execute_result"
    }
   ],
   "source": [
    "import nltk\n",
    "from nltk.tokenize import word_tokenize\n",
    "\n",
    "nltk.download('punkt')\n",
    "# Tokenize cleaned messages\n",
    "df['message_tokenized'] = df.apply(lambda x: nltk.word_tokenize(x['clean_message']), axis=1)\n",
    "df.head()"
   ]
  },
  {
   "attachments": {},
   "cell_type": "markdown",
   "metadata": {},
   "source": [
    "### Lemmatize\n",
    "\n",
    "This reduces all words to their base form"
   ]
  },
  {
   "cell_type": "code",
   "execution_count": 15,
   "metadata": {},
   "outputs": [
    {
     "name": "stderr",
     "output_type": "stream",
     "text": [
      "[nltk_data] Downloading package wordnet to\n",
      "[nltk_data]     C:\\Users\\eobri\\AppData\\Roaming\\nltk_data...\n",
      "[nltk_data]   Package wordnet is already up-to-date!\n",
      "[nltk_data] Downloading package omw-1.4 to\n",
      "[nltk_data]     C:\\Users\\eobri\\AppData\\Roaming\\nltk_data...\n",
      "[nltk_data]   Package omw-1.4 is already up-to-date!\n"
     ]
    }
   ],
   "source": [
    "from nltk.stem import WordNetLemmatizer\n",
    "nltk.download('wordnet')\n",
    "nltk.download('omw-1.4')\n",
    "lemmatizer = WordNetLemmatizer()"
   ]
  },
  {
   "cell_type": "code",
   "execution_count": 16,
   "metadata": {},
   "outputs": [],
   "source": [
    "def lemmatize(tokens):\n",
    "    lemmatized = [lemmatizer.lemmatize(token) for token in tokens]\n",
    "    return lemmatized"
   ]
  },
  {
   "cell_type": "code",
   "execution_count": 17,
   "metadata": {},
   "outputs": [
    {
     "data": {
      "text/html": [
       "<div>\n",
       "<style scoped>\n",
       "    .dataframe tbody tr th:only-of-type {\n",
       "        vertical-align: middle;\n",
       "    }\n",
       "\n",
       "    .dataframe tbody tr th {\n",
       "        vertical-align: top;\n",
       "    }\n",
       "\n",
       "    .dataframe thead th {\n",
       "        text-align: right;\n",
       "    }\n",
       "</style>\n",
       "<table border=\"1\" class=\"dataframe\">\n",
       "  <thead>\n",
       "    <tr style=\"text-align: right;\">\n",
       "      <th></th>\n",
       "      <th>id</th>\n",
       "      <th>Message</th>\n",
       "      <th>length</th>\n",
       "      <th>country</th>\n",
       "      <th>Date</th>\n",
       "      <th>clean_message</th>\n",
       "      <th>message_tokenized</th>\n",
       "      <th>message_lemmatize</th>\n",
       "    </tr>\n",
       "  </thead>\n",
       "  <tbody>\n",
       "    <tr>\n",
       "      <th>0</th>\n",
       "      <td>10120</td>\n",
       "      <td>Bugis oso near wat...</td>\n",
       "      <td>21</td>\n",
       "      <td>SG</td>\n",
       "      <td>2003/4</td>\n",
       "      <td>bugis oso near wat...</td>\n",
       "      <td>[bugis, oso, near, wat, ...]</td>\n",
       "      <td>[bugis, oso, near, wat, ...]</td>\n",
       "    </tr>\n",
       "    <tr>\n",
       "      <th>1</th>\n",
       "      <td>10121</td>\n",
       "      <td>Go until jurong point, crazy.. Available only ...</td>\n",
       "      <td>111</td>\n",
       "      <td>SG</td>\n",
       "      <td>2003/4</td>\n",
       "      <td>go until jurong point, crazy.. available only ...</td>\n",
       "      <td>[go, until, jurong, point, ,, crazy, .., avail...</td>\n",
       "      <td>[go, until, jurong, point, ,, crazy, .., avail...</td>\n",
       "    </tr>\n",
       "    <tr>\n",
       "      <th>2</th>\n",
       "      <td>10122</td>\n",
       "      <td>I dunno until when... Lets go learn pilates...</td>\n",
       "      <td>46</td>\n",
       "      <td>SG</td>\n",
       "      <td>2003/4</td>\n",
       "      <td>i dunno until when... lets go learn pilates...</td>\n",
       "      <td>[i, dunno, until, when, ..., lets, go, learn, ...</td>\n",
       "      <td>[i, dunno, until, when, ..., let, go, learn, p...</td>\n",
       "    </tr>\n",
       "    <tr>\n",
       "      <th>3</th>\n",
       "      <td>10123</td>\n",
       "      <td>Den only weekdays got special price... Haiz......</td>\n",
       "      <td>140</td>\n",
       "      <td>SG</td>\n",
       "      <td>2003/4</td>\n",
       "      <td>den only weekdays got special price... haiz......</td>\n",
       "      <td>[den, only, weekdays, got, special, price, ......</td>\n",
       "      <td>[den, only, weekday, got, special, price, ...,...</td>\n",
       "    </tr>\n",
       "    <tr>\n",
       "      <th>4</th>\n",
       "      <td>10124</td>\n",
       "      <td>Meet after lunch la...</td>\n",
       "      <td>22</td>\n",
       "      <td>SG</td>\n",
       "      <td>2003/4</td>\n",
       "      <td>meet after lunch la...</td>\n",
       "      <td>[meet, after, lunch, la, ...]</td>\n",
       "      <td>[meet, after, lunch, la, ...]</td>\n",
       "    </tr>\n",
       "  </tbody>\n",
       "</table>\n",
       "</div>"
      ],
      "text/plain": [
       "      id                                            Message length country  \\\n",
       "0  10120                              Bugis oso near wat...     21      SG   \n",
       "1  10121  Go until jurong point, crazy.. Available only ...    111      SG   \n",
       "2  10122     I dunno until when... Lets go learn pilates...     46      SG   \n",
       "3  10123  Den only weekdays got special price... Haiz......    140      SG   \n",
       "4  10124                             Meet after lunch la...     22      SG   \n",
       "\n",
       "     Date                                      clean_message  \\\n",
       "0  2003/4                              bugis oso near wat...   \n",
       "1  2003/4  go until jurong point, crazy.. available only ...   \n",
       "2  2003/4     i dunno until when... lets go learn pilates...   \n",
       "3  2003/4  den only weekdays got special price... haiz......   \n",
       "4  2003/4                             meet after lunch la...   \n",
       "\n",
       "                                   message_tokenized  \\\n",
       "0                       [bugis, oso, near, wat, ...]   \n",
       "1  [go, until, jurong, point, ,, crazy, .., avail...   \n",
       "2  [i, dunno, until, when, ..., lets, go, learn, ...   \n",
       "3  [den, only, weekdays, got, special, price, ......   \n",
       "4                      [meet, after, lunch, la, ...]   \n",
       "\n",
       "                                   message_lemmatize  \n",
       "0                       [bugis, oso, near, wat, ...]  \n",
       "1  [go, until, jurong, point, ,, crazy, .., avail...  \n",
       "2  [i, dunno, until, when, ..., let, go, learn, p...  \n",
       "3  [den, only, weekday, got, special, price, ...,...  \n",
       "4                      [meet, after, lunch, la, ...]  "
      ]
     },
     "execution_count": 17,
     "metadata": {},
     "output_type": "execute_result"
    }
   ],
   "source": [
    "df['message_lemmatize']=df.message_tokenized.apply(lambda x: lemmatize(x))\n",
    "df.head()"
   ]
  },
  {
   "attachments": {},
   "cell_type": "markdown",
   "metadata": {},
   "source": [
    "# Exploratory Analysis"
   ]
  },
  {
   "cell_type": "code",
   "execution_count": 16,
   "metadata": {},
   "outputs": [
    {
     "data": {
      "text/plain": [
       "array(['SG', 'MY', 'India', 'Pakistan', 'United States', 'Canada',\n",
       "       'unknown', 'Serbia', 'United Kingdom', 'France', 'Singapore',\n",
       "       'China', 'Malaysia', 'Sri Lanka', 'Spain', 'Bangladesh',\n",
       "       'Philippines', 'Macedonia', 'Romania', 'Kenya', 'Slovenia',\n",
       "       'New Zealand', 'Nigeria', 'Ghana', 'Indonesia', 'Nepal', 'Morocco',\n",
       "       'USA', 'Lebanon', 'india', 'Trinidad and Tobago', 'INDIA',\n",
       "       'srilanka', 'jamaica', 'Hungary', 'Australia', 'Italia',\n",
       "       'BARBADOS', 'Turkey', 'UK'], dtype=object)"
      ]
     },
     "execution_count": 16,
     "metadata": {},
     "output_type": "execute_result"
    }
   ],
   "source": [
    "#We see there are issues with how some of the countries are named. Theres USA and United States for example\n",
    "df.country.unique()"
   ]
  },
  {
   "cell_type": "code",
   "execution_count": 17,
   "metadata": {},
   "outputs": [],
   "source": [
    "# Correct values\n",
    "df = df.replace({'country':{'SG':'Singapore', \n",
    "                            'USA':'United States',\n",
    "                            'india':'India',\n",
    "                            'INDIA':'India',\n",
    "                            'srilanka':'Sri Lanka',\n",
    "                            'UK':'United Kingdom',\n",
    "                            'BARBADOS':'Barbados',\n",
    "                            'jamaica':'Jamaica',\n",
    "                            'MY':'Malaysia',\n",
    "                            'unknown':'Unknown'}})\n"
   ]
  },
  {
   "cell_type": "code",
   "execution_count": 18,
   "metadata": {},
   "outputs": [
    {
     "data": {
      "text/plain": [
       "Singapore              65.47\n",
       "India                  14.58\n",
       "United States          11.69\n",
       "Sri Lanka               2.15\n",
       "Malaysia                1.58\n",
       "Pakistan                1.55\n",
       "Unknown                 1.24\n",
       "Canada                  0.41\n",
       "Bangladesh              0.26\n",
       "China                   0.22\n",
       "Philippines             0.14\n",
       "Indonesia               0.10\n",
       "United Kingdom          0.08\n",
       "Nepal                   0.08\n",
       "Hungary                 0.06\n",
       "Serbia                  0.05\n",
       "Kenya                   0.04\n",
       "Ghana                   0.04\n",
       "Italia                  0.02\n",
       "Trinidad and Tobago     0.02\n",
       "Lebanon                 0.02\n",
       "Turkey                  0.02\n",
       "Nigeria                 0.02\n",
       "New Zealand             0.02\n",
       "Slovenia                0.02\n",
       "Macedonia               0.02\n",
       "Morocco                 0.02\n",
       "Australia               0.02\n",
       "Romania                 0.02\n",
       "Jamaica                 0.02\n",
       "Barbados                0.02\n",
       "Spain                   0.01\n",
       "France                  0.01\n",
       "Name: country, dtype: float64"
      ]
     },
     "execution_count": 18,
     "metadata": {},
     "output_type": "execute_result"
    }
   ],
   "source": [
    "df['country'].value_counts(normalize=True).round(4)*100\n",
    "\n",
    "#We see most of the texts are from SingaPore. Interesting"
   ]
  },
  {
   "cell_type": "code",
   "execution_count": 19,
   "metadata": {},
   "outputs": [
    {
     "data": {
      "text/plain": [
       "27"
      ]
     },
     "execution_count": 19,
     "metadata": {},
     "output_type": "execute_result"
    }
   ],
   "source": [
    "df.Date.nunique()\n",
    "#Small sample of texts"
   ]
  },
  {
   "cell_type": "code",
   "execution_count": 20,
   "metadata": {},
   "outputs": [
    {
     "data": {
      "text/plain": [
       "2011/3     21.47\n",
       "2003/4     20.18\n",
       "2011/4     11.84\n",
       "2011/12    11.52\n",
       "2011/11     8.31\n",
       "2011/1      7.50\n",
       "2011/2      7.48\n",
       "2014/9      4.78\n",
       "2010/11     1.89\n",
       "2010/12     1.16\n",
       "2011/8      0.55\n",
       "2015/2      0.54\n",
       "2014/11     0.48\n",
       "2012/3      0.34\n",
       "2012/5      0.31\n",
       "2012/7      0.30\n",
       "2011/5      0.23\n",
       "2011/9      0.22\n",
       "2012/2      0.19\n",
       "2011/6      0.15\n",
       "2015/3      0.12\n",
       "2013/5      0.11\n",
       "2012/8      0.11\n",
       "2014/12     0.10\n",
       "2012/6      0.07\n",
       "2012/4      0.04\n",
       "2012/10     0.02\n",
       "Name: Date, dtype: float64"
      ]
     },
     "execution_count": 20,
     "metadata": {},
     "output_type": "execute_result"
    }
   ],
   "source": [
    "df['Date'].value_counts(normalize=True).round(4)*100\n",
    "\n",
    "#Interesting, we have data all over the place"
   ]
  },
  {
   "attachments": {},
   "cell_type": "markdown",
   "metadata": {},
   "source": [
    "# Naive Bayes Classifier"
   ]
  },
  {
   "attachments": {},
   "cell_type": "markdown",
   "metadata": {},
   "source": [
    "Although not great, I will be using NLTKs twitter data that has already been classified to train all models"
   ]
  },
  {
   "cell_type": "code",
   "execution_count": 21,
   "metadata": {},
   "outputs": [
    {
     "name": "stderr",
     "output_type": "stream",
     "text": [
      "[nltk_data] Downloading package twitter_samples to\n",
      "[nltk_data]     C:\\Users\\eobri\\AppData\\Roaming\\nltk_data...\n",
      "[nltk_data]   Package twitter_samples is already up-to-date!\n",
      "[nltk_data] Downloading package averaged_perceptron_tagger to\n",
      "[nltk_data]     C:\\Users\\eobri\\AppData\\Roaming\\nltk_data...\n",
      "[nltk_data]   Package averaged_perceptron_tagger is already up-to-\n",
      "[nltk_data]       date!\n",
      "[nltk_data] Downloading package wordnet to\n",
      "[nltk_data]     C:\\Users\\eobri\\AppData\\Roaming\\nltk_data...\n",
      "[nltk_data]   Package wordnet is already up-to-date!\n"
     ]
    }
   ],
   "source": [
    "nltk.download('twitter_samples')\n",
    "nltk.download('averaged_perceptron_tagger')\n",
    "nltk.download('wordnet')\n",
    "\n",
    "from nltk.corpus import twitter_samples"
   ]
  },
  {
   "cell_type": "code",
   "execution_count": 22,
   "metadata": {},
   "outputs": [],
   "source": [
    "# Getting all positive tweets\n",
    "positive_tweets = twitter_samples.strings('positive_tweets.json')\n",
    "# Getting all negative tweets\n",
    "negative_tweets = twitter_samples.strings('negative_tweets.json')"
   ]
  },
  {
   "cell_type": "code",
   "execution_count": 23,
   "metadata": {},
   "outputs": [
    {
     "name": "stdout",
     "output_type": "stream",
     "text": [
      "@metalgear_jp @Kojima_Hideo I want you're T-shirts ! They are so cool ! :D\n",
      "There are 5000 positive tweets.\n"
     ]
    }
   ],
   "source": [
    "print(positive_tweets[100])\n",
    "\n",
    "print('There are {} positive tweets.'.format(len(positive_tweets)))"
   ]
  },
  {
   "cell_type": "code",
   "execution_count": 24,
   "metadata": {},
   "outputs": [
    {
     "name": "stdout",
     "output_type": "stream",
     "text": [
      "@amedefu Me  too。。。_:(´ω`」 ∠):_\n",
      "There are 5000 negative tweets.\n"
     ]
    }
   ],
   "source": [
    "print(negative_tweets[100])\n",
    "\n",
    "print('There are {} negative tweets.'.format(len(negative_tweets)))"
   ]
  },
  {
   "cell_type": "code",
   "execution_count": 25,
   "metadata": {},
   "outputs": [
    {
     "name": "stdout",
     "output_type": "stream",
     "text": [
      "['@metalgear_jp', '@Kojima_Hideo', 'I', 'want', \"you're\", 'T-shirts', '!', 'They', 'are', 'so', 'cool', '!', ':D']\n",
      "['@amedefu', 'Me', 'too', '。', '。', '。', '_', ':(', '´', 'ω', '`', '」', '∠', '):', '_']\n"
     ]
    }
   ],
   "source": [
    "# Create tokens from the positive tweets\n",
    "pos_tweet_tokens = twitter_samples.tokenized('positive_tweets.json')\n",
    "\n",
    "print(pos_tweet_tokens[100])\n",
    "\n",
    "# Create tokens from the positive tweets\n",
    "neg_tweet_tokens = twitter_samples.tokenized('negative_tweets.json')\n",
    "\n",
    "print(neg_tweet_tokens[100])"
   ]
  },
  {
   "cell_type": "code",
   "execution_count": 26,
   "metadata": {},
   "outputs": [
    {
     "data": {
      "text/plain": [
       "['Everything',\n",
       " 'in',\n",
       " 'the',\n",
       " 'kids',\n",
       " 'section',\n",
       " 'of',\n",
       " 'IKEA',\n",
       " 'is',\n",
       " 'so',\n",
       " 'cute',\n",
       " '.',\n",
       " 'Shame',\n",
       " \"I'm\",\n",
       " 'nearly',\n",
       " '19',\n",
       " 'in',\n",
       " '2',\n",
       " 'months',\n",
       " ':(']"
      ]
     },
     "execution_count": 26,
     "metadata": {},
     "output_type": "execute_result"
    }
   ],
   "source": [
    "#For the SMS data I removed URLs and HTML tags so I need to do the same. \n",
    "\n",
    "positive_cleaned_tweets_list = []\n",
    "negative_cleaned_tweets_list = []\n",
    "\n",
    "# Positive tokens\n",
    "for tweet in pos_tweet_tokens:\n",
    "    cleaned_tweet = []\n",
    "    for token in tweet:\n",
    "        # Remove URLs\n",
    "        url_cleaned = remove_urls(token)\n",
    "        # Remove HTML \n",
    "        html_cleaned = remove_html(url_cleaned)\n",
    "        cleaned_tweet.append(html_cleaned)\n",
    "    \n",
    "    positive_cleaned_tweets_list.append(cleaned_tweet)\n",
    "\n",
    "# Negative tokens\n",
    "for tweet in neg_tweet_tokens:\n",
    "    cleaned_tweet = []\n",
    "    for token in tweet:\n",
    "        # Remove URLs\n",
    "        url_cleaned = remove_urls(token)\n",
    "        # Remove HTML \n",
    "        html_cleaned = remove_html(url_cleaned)\n",
    "        cleaned_tweet.append(html_cleaned)\n",
    "    \n",
    "    negative_cleaned_tweets_list.append(cleaned_tweet)\n",
    "\n",
    "\n",
    "negative_cleaned_tweets_list[1]"
   ]
  },
  {
   "cell_type": "code",
   "execution_count": 27,
   "metadata": {},
   "outputs": [
    {
     "data": {
      "text/plain": [
       "['Everything',\n",
       " 'in',\n",
       " 'the',\n",
       " 'kid',\n",
       " 'section',\n",
       " 'of',\n",
       " 'IKEA',\n",
       " 'is',\n",
       " 'so',\n",
       " 'cute',\n",
       " '.',\n",
       " 'Shame',\n",
       " \"I'm\",\n",
       " 'nearly',\n",
       " '19',\n",
       " 'in',\n",
       " '2',\n",
       " 'month',\n",
       " ':(']"
      ]
     },
     "execution_count": 27,
     "metadata": {},
     "output_type": "execute_result"
    }
   ],
   "source": [
    "#Now we need to lemmatize the data\n",
    "positive_cleaned=[]\n",
    "negative_cleaned=[]\n",
    "for tweet in positive_cleaned_tweets_list:\n",
    "    lemmatized = [lemmatizer.lemmatize(word) for word in tweet]\n",
    "    positive_cleaned.append(lemmatized)\n",
    "\n",
    "# Negative tokens\n",
    "for tweet in negative_cleaned_tweets_list:\n",
    "    lemmatized = [lemmatizer.lemmatize(word) for word in tweet]\n",
    "    negative_cleaned.append(lemmatized)\n",
    "\n",
    "\n",
    "negative_cleaned[1]"
   ]
  },
  {
   "attachments": {},
   "cell_type": "markdown",
   "metadata": {},
   "source": [
    "Naive Bayes is a classifer and so needs features. I can not use every single unique word in the training set. Therefore, I need to pick the most common words or punctuation. I can do that with a frequency distribution"
   ]
  },
  {
   "cell_type": "code",
   "execution_count": 28,
   "metadata": {},
   "outputs": [
    {
     "data": {
      "text/plain": [
       "130058"
      ]
     },
     "execution_count": 28,
     "metadata": {},
     "output_type": "execute_result"
    }
   ],
   "source": [
    "list_of_all_tweets = positive_cleaned + negative_cleaned\n",
    "\n",
    "#turn my list of lists into a flat list of tokens\n",
    "all_tweet_tokens = [token for sublist in list_of_all_tweets for token in sublist]\n",
    "\n",
    "#check how many words that is\n",
    "len(all_tweet_tokens)"
   ]
  },
  {
   "cell_type": "code",
   "execution_count": 29,
   "metadata": {},
   "outputs": [
    {
     "name": "stdout",
     "output_type": "stream",
     "text": [
      "21997\n",
      "[(':(', 4586), (':)', 3693), ('!', 2675), ('I', 2477), ('.', 2433), ('to', 2133), ('you', 2001), ('the', 1845), ('', 1753), (',', 1698)]\n"
     ]
    }
   ],
   "source": [
    "#create a frequency distribution of all the words.\n",
    "all_tokens = nltk.FreqDist(token for token in all_tweet_tokens)\n",
    "\n",
    "\n",
    "print(len(all_tokens))\n",
    "print(all_tokens.most_common(10))\n",
    "\n"
   ]
  },
  {
   "cell_type": "code",
   "execution_count": 30,
   "metadata": {},
   "outputs": [
    {
     "data": {
      "text/plain": [
       "[':(', ':)', '!', 'I', '.']"
      ]
     },
     "execution_count": 30,
     "metadata": {},
     "output_type": "execute_result"
    }
   ],
   "source": [
    "#select the top 10,000 words to be our features\n",
    "sentiment_features = [word for (word, freq) in all_tokens.most_common(10000)]\n",
    "\n",
    "#check what this list looks like\n",
    "sentiment_features[:5]\n"
   ]
  },
  {
   "attachments": {},
   "cell_type": "markdown",
   "metadata": {},
   "source": [
    "Interesting! We see how punctuation like the happy and sad face is super important for conveying emotion in text. We also see that the word I is super common."
   ]
  },
  {
   "cell_type": "code",
   "execution_count": 31,
   "metadata": {},
   "outputs": [],
   "source": [
    "#Now I need a method that checks if a feature is present in a message\n",
    "def document_features(document, sentiment_features):\n",
    "    #make a set list of all the tokens in a message\n",
    "    document_tokens = set(document)\n",
    "    features = {}\n",
    "    #for all my features, check if that feature is in my target message\n",
    "    for token in sentiment_features:\n",
    "        #make a dictionary for each message \n",
    "        features[token] = (token in document_tokens)\n",
    "    return features\n"
   ]
  },
  {
   "attachments": {},
   "cell_type": "markdown",
   "metadata": {},
   "source": [
    "Now I can train the model"
   ]
  },
  {
   "cell_type": "code",
   "execution_count": 32,
   "metadata": {},
   "outputs": [
    {
     "data": {
      "text/html": [
       "<div>\n",
       "<style scoped>\n",
       "    .dataframe tbody tr th:only-of-type {\n",
       "        vertical-align: middle;\n",
       "    }\n",
       "\n",
       "    .dataframe tbody tr th {\n",
       "        vertical-align: top;\n",
       "    }\n",
       "\n",
       "    .dataframe thead th {\n",
       "        text-align: right;\n",
       "    }\n",
       "</style>\n",
       "<table border=\"1\" class=\"dataframe\">\n",
       "  <thead>\n",
       "    <tr style=\"text-align: right;\">\n",
       "      <th></th>\n",
       "      <th>0</th>\n",
       "      <th>1</th>\n",
       "    </tr>\n",
       "  </thead>\n",
       "  <tbody>\n",
       "    <tr>\n",
       "      <th>0</th>\n",
       "      <td>{':(': False, ':)': True, '!': False, 'I': Fal...</td>\n",
       "      <td>1</td>\n",
       "    </tr>\n",
       "    <tr>\n",
       "      <th>1</th>\n",
       "      <td>{':(': False, ':)': True, '!': True, 'I': Fals...</td>\n",
       "      <td>1</td>\n",
       "    </tr>\n",
       "    <tr>\n",
       "      <th>2</th>\n",
       "      <td>{':(': False, ':)': True, '!': True, 'I': Fals...</td>\n",
       "      <td>1</td>\n",
       "    </tr>\n",
       "    <tr>\n",
       "      <th>3</th>\n",
       "      <td>{':(': False, ':)': True, '!': False, 'I': Fal...</td>\n",
       "      <td>1</td>\n",
       "    </tr>\n",
       "    <tr>\n",
       "      <th>4</th>\n",
       "      <td>{':(': False, ':)': True, '!': True, 'I': Fals...</td>\n",
       "      <td>1</td>\n",
       "    </tr>\n",
       "  </tbody>\n",
       "</table>\n",
       "</div>"
      ],
      "text/plain": [
       "                                                   0  1\n",
       "0  {':(': False, ':)': True, '!': False, 'I': Fal...  1\n",
       "1  {':(': False, ':)': True, '!': True, 'I': Fals...  1\n",
       "2  {':(': False, ':)': True, '!': True, 'I': Fals...  1\n",
       "3  {':(': False, ':)': True, '!': False, 'I': Fal...  1\n",
       "4  {':(': False, ':)': True, '!': True, 'I': Fals...  1"
      ]
     },
     "execution_count": 32,
     "metadata": {},
     "output_type": "execute_result"
    }
   ],
   "source": [
    "#First I need to split the data into testing and train data\n",
    "from sklearn.model_selection import train_test_split\n",
    "\n",
    "#Here I label the data as 1=positive and 0=negative\n",
    "positive_tw = [(tweet, 1) for tweet in positive_cleaned]\n",
    "negative_tw = [(tweet, -1) for tweet in negative_cleaned]\n",
    "\n",
    "data = positive_tw+negative_tw\n",
    "\n",
    "#create a list of (token, sentiment) pairs for all the features in the tweets. It says if that feature is in the text or not with True/False\n",
    "feature_set = [(document_features(d, sentiment_features),c) for (d,c) in data]\n",
    "\n",
    "\n",
    "feature_set=pd.DataFrame(feature_set)\n",
    "\n",
    "feature_set.head()\n",
    "\n"
   ]
  },
  {
   "cell_type": "code",
   "execution_count": 33,
   "metadata": {},
   "outputs": [],
   "source": [
    "feature_set.rename(columns={0:'text',1:'class_name'},inplace=True)\n",
    "\n"
   ]
  },
  {
   "cell_type": "code",
   "execution_count": 34,
   "metadata": {},
   "outputs": [],
   "source": [
    "train_set,test_set=train_test_split(feature_set,test_size=0.2,random_state=42)\n",
    "\n",
    "\n",
    "#Need to convert back to Tuples\n",
    "train_set=[row for row in train_set.itertuples(index=False, name=None)]\n",
    "test_set=[row for row in test_set.itertuples(index=False, name=None)]\n",
    "\n"
   ]
  },
  {
   "cell_type": "code",
   "execution_count": 35,
   "metadata": {},
   "outputs": [
    {
     "name": "stdout",
     "output_type": "stream",
     "text": [
      "Accuracy is: 0.9975\n",
      "Most Informative Features\n",
      "                      :( = True               -1 : 1      =   2351.5 : 1.0\n",
      "                      :) = True                1 : -1     =   1142.6 : 1.0\n",
      "                follower = True                1 : -1     =     43.3 : 1.0\n",
      "                  THANKS = True               -1 : 1      =     27.5 : 1.0\n",
      "                     sad = True               -1 : 1      =     24.6 : 1.0\n",
      "                  FOLLOW = True               -1 : 1      =     23.5 : 1.0\n",
      "                    THAT = True               -1 : 1      =     22.2 : 1.0\n",
      "                     See = True                1 : -1     =     21.1 : 1.0\n",
      "                     x15 = True               -1 : 1      =     19.5 : 1.0\n",
      "                    miss = True               -1 : 1      =     17.8 : 1.0\n",
      "                   isn't = True               -1 : 1      =     17.6 : 1.0\n",
      "                     TOO = True               -1 : 1      =     16.9 : 1.0\n",
      "                 arrived = True                1 : -1     =     16.5 : 1.0\n",
      "                   Thank = True                1 : -1     =     15.9 : 1.0\n",
      "                  Thanks = True                1 : -1     =     15.8 : 1.0\n",
      "                    Love = True                1 : -1     =     15.5 : 1.0\n",
      "                    glad = True                1 : -1     =     14.4 : 1.0\n",
      "                   Enjoy = True                1 : -1     =     13.7 : 1.0\n",
      "                  wasn't = True               -1 : 1      =     13.6 : 1.0\n",
      "                       😭 = True               -1 : 1      =     12.3 : 1.0\n",
      "None\n"
     ]
    }
   ],
   "source": [
    "# Import classify and sentiment analysis model\n",
    "from nltk import classify\n",
    "from nltk import NaiveBayesClassifier\n",
    "\n",
    "# Instantiate a classifier and train on training data \n",
    "classifier = nltk.NaiveBayesClassifier.train(train_set)\n",
    "\n",
    "# Evaluate the model with classify() function\n",
    "print(\"Accuracy is:\", classify.accuracy(classifier, test_set))\n",
    "\n",
    "#Show the 20 most informative features for prediction\n",
    "print(classifier.show_most_informative_features(20))"
   ]
  },
  {
   "attachments": {},
   "cell_type": "markdown",
   "metadata": {},
   "source": [
    "Now lets try it on one to the SMS text messages"
   ]
  },
  {
   "cell_type": "code",
   "execution_count": 36,
   "metadata": {},
   "outputs": [
    {
     "name": "stdout",
     "output_type": "stream",
     "text": [
      "['m', 'going', 'to', 'be', 'late', 'leh', '.']\n",
      "-1\n"
     ]
    }
   ],
   "source": [
    "# Select one sample message to evaluate\n",
    "sample_message = str(df.message_lemmatize[100])\n",
    "print(sample_message)\n",
    "\n",
    "# Print prediction of sentiment\n",
    "print(classifier.classify(dict([token, True] for token in sample_message)))"
   ]
  },
  {
   "attachments": {},
   "cell_type": "markdown",
   "metadata": {},
   "source": [
    "Now lets do it on all messages and explore the results"
   ]
  },
  {
   "cell_type": "code",
   "execution_count": 37,
   "metadata": {},
   "outputs": [
    {
     "data": {
      "text/plain": [
       "-1    28423\n",
       "1     20172\n",
       "Name: Sentiment_NB, dtype: int64"
      ]
     },
     "execution_count": 37,
     "metadata": {},
     "output_type": "execute_result"
    }
   ],
   "source": [
    "sentiments = []\n",
    "\n",
    "# Iterate through the column and predict each response's sentiment, append sentiment to new list\n",
    "for message in df['message_lemmatize']:\n",
    "    sentiments.append(str((classifier.classify(dict([token, True] for token in message)))))\n",
    "\n",
    "# add the list back to our DataFrame\n",
    "df['Sentiment_NB'] = sentiments\n",
    "\n",
    "df['Sentiment_NB'].value_counts()"
   ]
  },
  {
   "attachments": {},
   "cell_type": "markdown",
   "metadata": {},
   "source": [
    "Finally, lets look at the results by country"
   ]
  },
  {
   "cell_type": "code",
   "execution_count": 38,
   "metadata": {},
   "outputs": [],
   "source": [
    "df.Sentiment_NB=df.Sentiment_NB.apply(lambda x: int(x))"
   ]
  },
  {
   "cell_type": "code",
   "execution_count": 39,
   "metadata": {},
   "outputs": [
    {
     "data": {
      "text/html": [
       "<div>\n",
       "<style scoped>\n",
       "    .dataframe tbody tr th:only-of-type {\n",
       "        vertical-align: middle;\n",
       "    }\n",
       "\n",
       "    .dataframe tbody tr th {\n",
       "        vertical-align: top;\n",
       "    }\n",
       "\n",
       "    .dataframe thead th {\n",
       "        text-align: right;\n",
       "    }\n",
       "</style>\n",
       "<table border=\"1\" class=\"dataframe\">\n",
       "  <thead>\n",
       "    <tr style=\"text-align: right;\">\n",
       "      <th></th>\n",
       "      <th>country</th>\n",
       "      <th>Sentiment_NB</th>\n",
       "    </tr>\n",
       "  </thead>\n",
       "  <tbody>\n",
       "    <tr>\n",
       "      <th>2</th>\n",
       "      <td>Barbados</td>\n",
       "      <td>-1.000000</td>\n",
       "    </tr>\n",
       "    <tr>\n",
       "      <th>13</th>\n",
       "      <td>Lebanon</td>\n",
       "      <td>-0.800000</td>\n",
       "    </tr>\n",
       "    <tr>\n",
       "      <th>14</th>\n",
       "      <td>Macedonia</td>\n",
       "      <td>-0.600000</td>\n",
       "    </tr>\n",
       "    <tr>\n",
       "      <th>10</th>\n",
       "      <td>Italia</td>\n",
       "      <td>-0.600000</td>\n",
       "    </tr>\n",
       "    <tr>\n",
       "      <th>11</th>\n",
       "      <td>Jamaica</td>\n",
       "      <td>-0.500000</td>\n",
       "    </tr>\n",
       "    <tr>\n",
       "      <th>25</th>\n",
       "      <td>Slovenia</td>\n",
       "      <td>-0.400000</td>\n",
       "    </tr>\n",
       "    <tr>\n",
       "      <th>22</th>\n",
       "      <td>Romania</td>\n",
       "      <td>-0.333333</td>\n",
       "    </tr>\n",
       "    <tr>\n",
       "      <th>23</th>\n",
       "      <td>Serbia</td>\n",
       "      <td>-0.272727</td>\n",
       "    </tr>\n",
       "    <tr>\n",
       "      <th>3</th>\n",
       "      <td>Canada</td>\n",
       "      <td>-0.232323</td>\n",
       "    </tr>\n",
       "    <tr>\n",
       "      <th>24</th>\n",
       "      <td>Singapore</td>\n",
       "      <td>-0.228777</td>\n",
       "    </tr>\n",
       "    <tr>\n",
       "      <th>5</th>\n",
       "      <td>France</td>\n",
       "      <td>-0.200000</td>\n",
       "    </tr>\n",
       "    <tr>\n",
       "      <th>29</th>\n",
       "      <td>Turkey</td>\n",
       "      <td>-0.200000</td>\n",
       "    </tr>\n",
       "    <tr>\n",
       "      <th>20</th>\n",
       "      <td>Pakistan</td>\n",
       "      <td>-0.161119</td>\n",
       "    </tr>\n",
       "    <tr>\n",
       "      <th>7</th>\n",
       "      <td>Hungary</td>\n",
       "      <td>-0.142857</td>\n",
       "    </tr>\n",
       "    <tr>\n",
       "      <th>31</th>\n",
       "      <td>United States</td>\n",
       "      <td>-0.132042</td>\n",
       "    </tr>\n",
       "    <tr>\n",
       "      <th>1</th>\n",
       "      <td>Bangladesh</td>\n",
       "      <td>-0.111111</td>\n",
       "    </tr>\n",
       "    <tr>\n",
       "      <th>15</th>\n",
       "      <td>Malaysia</td>\n",
       "      <td>-0.079531</td>\n",
       "    </tr>\n",
       "    <tr>\n",
       "      <th>8</th>\n",
       "      <td>India</td>\n",
       "      <td>-0.018772</td>\n",
       "    </tr>\n",
       "    <tr>\n",
       "      <th>21</th>\n",
       "      <td>Philippines</td>\n",
       "      <td>-0.014925</td>\n",
       "    </tr>\n",
       "    <tr>\n",
       "      <th>32</th>\n",
       "      <td>Unknown</td>\n",
       "      <td>-0.006645</td>\n",
       "    </tr>\n",
       "    <tr>\n",
       "      <th>19</th>\n",
       "      <td>Nigeria</td>\n",
       "      <td>0.000000</td>\n",
       "    </tr>\n",
       "    <tr>\n",
       "      <th>4</th>\n",
       "      <td>China</td>\n",
       "      <td>0.028037</td>\n",
       "    </tr>\n",
       "    <tr>\n",
       "      <th>9</th>\n",
       "      <td>Indonesia</td>\n",
       "      <td>0.041667</td>\n",
       "    </tr>\n",
       "    <tr>\n",
       "      <th>0</th>\n",
       "      <td>Australia</td>\n",
       "      <td>0.111111</td>\n",
       "    </tr>\n",
       "    <tr>\n",
       "      <th>6</th>\n",
       "      <td>Ghana</td>\n",
       "      <td>0.111111</td>\n",
       "    </tr>\n",
       "    <tr>\n",
       "      <th>30</th>\n",
       "      <td>United Kingdom</td>\n",
       "      <td>0.150000</td>\n",
       "    </tr>\n",
       "    <tr>\n",
       "      <th>27</th>\n",
       "      <td>Sri Lanka</td>\n",
       "      <td>0.155683</td>\n",
       "    </tr>\n",
       "    <tr>\n",
       "      <th>18</th>\n",
       "      <td>New Zealand</td>\n",
       "      <td>0.200000</td>\n",
       "    </tr>\n",
       "    <tr>\n",
       "      <th>17</th>\n",
       "      <td>Nepal</td>\n",
       "      <td>0.333333</td>\n",
       "    </tr>\n",
       "    <tr>\n",
       "      <th>16</th>\n",
       "      <td>Morocco</td>\n",
       "      <td>0.333333</td>\n",
       "    </tr>\n",
       "    <tr>\n",
       "      <th>12</th>\n",
       "      <td>Kenya</td>\n",
       "      <td>0.400000</td>\n",
       "    </tr>\n",
       "    <tr>\n",
       "      <th>28</th>\n",
       "      <td>Trinidad and Tobago</td>\n",
       "      <td>0.400000</td>\n",
       "    </tr>\n",
       "    <tr>\n",
       "      <th>26</th>\n",
       "      <td>Spain</td>\n",
       "      <td>0.600000</td>\n",
       "    </tr>\n",
       "  </tbody>\n",
       "</table>\n",
       "</div>"
      ],
      "text/plain": [
       "                country  Sentiment_NB\n",
       "2              Barbados     -1.000000\n",
       "13              Lebanon     -0.800000\n",
       "14            Macedonia     -0.600000\n",
       "10               Italia     -0.600000\n",
       "11              Jamaica     -0.500000\n",
       "25             Slovenia     -0.400000\n",
       "22              Romania     -0.333333\n",
       "23               Serbia     -0.272727\n",
       "3                Canada     -0.232323\n",
       "24            Singapore     -0.228777\n",
       "5                France     -0.200000\n",
       "29               Turkey     -0.200000\n",
       "20             Pakistan     -0.161119\n",
       "7               Hungary     -0.142857\n",
       "31        United States     -0.132042\n",
       "1            Bangladesh     -0.111111\n",
       "15             Malaysia     -0.079531\n",
       "8                 India     -0.018772\n",
       "21          Philippines     -0.014925\n",
       "32              Unknown     -0.006645\n",
       "19              Nigeria      0.000000\n",
       "4                 China      0.028037\n",
       "9             Indonesia      0.041667\n",
       "0             Australia      0.111111\n",
       "6                 Ghana      0.111111\n",
       "30       United Kingdom      0.150000\n",
       "27            Sri Lanka      0.155683\n",
       "18          New Zealand      0.200000\n",
       "17                Nepal      0.333333\n",
       "16              Morocco      0.333333\n",
       "12                Kenya      0.400000\n",
       "28  Trinidad and Tobago      0.400000\n",
       "26                Spain      0.600000"
      ]
     },
     "execution_count": 39,
     "metadata": {},
     "output_type": "execute_result"
    }
   ],
   "source": [
    "df_sent = df.groupby(['country']).Sentiment_NB.mean().reset_index()\n",
    "\n",
    "df_sent.sort_values(by='Sentiment_NB') "
   ]
  },
  {
   "cell_type": "code",
   "execution_count": 40,
   "metadata": {},
   "outputs": [
    {
     "data": {
      "image/png": "[encoded data removed]",
      "text/plain": [
       "<Figure size 4000x1500 with 1 Axes>"
      ]
     },
     "metadata": {},
     "output_type": "display_data"
    }
   ],
   "source": [
    "fig, ax = plt.subplots(figsize=(40,15))\n",
    "sns.barplot(x='country', y='Sentiment_NB', data=df_sent,ax=ax)\n",
    "plt.show()"
   ]
  },
  {
   "attachments": {},
   "cell_type": "markdown",
   "metadata": {},
   "source": [
    "# SVM Classifier"
   ]
  },
  {
   "cell_type": "code",
   "execution_count": 41,
   "metadata": {},
   "outputs": [],
   "source": [
    "import pandas as pd\n",
    "from sklearn.model_selection import train_test_split\n",
    "from sklearn.feature_extraction.text import TfidfVectorizer\n",
    "from sklearn.svm import SVC\n",
    "from sklearn.metrics import accuracy_score, classification_report\n",
    "\n",
    "positive_tw = [(tweet, 1) for tweet in positive_cleaned]\n",
    "negative_tw = [(tweet, -1) for tweet in negative_cleaned]\n",
    "\n",
    "data = positive_tw+negative_tw\n",
    "\n",
    "df_twitter_data = pd.DataFrame(data, columns=['text', 'label'])\n",
    "\n",
    "df_twitter_data.head()\n",
    "\n",
    "texts = df_twitter_data.text\n",
    "texts = [\" \".join(text) for text in texts]\n",
    "labels = df_twitter_data.label.to_list()"
   ]
  },
  {
   "cell_type": "code",
   "execution_count": 42,
   "metadata": {},
   "outputs": [],
   "source": [
    "#I need to clean texts. Remove #Hashtags and @usernames\n",
    "clean_texts=[]\n",
    "for text in texts:\n",
    "    text = re.sub(r'@\\w+', '', text)\n",
    "    text= re.sub(r'#\\w+', '', text)\n",
    "    clean_texts.append(text)\n",
    "\n",
    "texts=clean_texts"
   ]
  },
  {
   "cell_type": "code",
   "execution_count": 43,
   "metadata": {},
   "outputs": [],
   "source": [
    "vectorizer = TfidfVectorizer()\n",
    "features = vectorizer.fit_transform(texts)"
   ]
  },
  {
   "cell_type": "code",
   "execution_count": 44,
   "metadata": {},
   "outputs": [
    {
     "data": {
      "text/plain": [
       "SVC()"
      ]
     },
     "execution_count": 44,
     "metadata": {},
     "output_type": "execute_result"
    }
   ],
   "source": [
    "x_train, x_test, y_train, y_test = train_test_split(features, labels, test_size=0.2, random_state=42)\n",
    "clf = SVC(kernel='rbf')\n",
    "clf.fit(x_train, y_train)"
   ]
  },
  {
   "cell_type": "code",
   "execution_count": 45,
   "metadata": {},
   "outputs": [
    {
     "name": "stdout",
     "output_type": "stream",
     "text": [
      "Accuracy: 0.7645\n",
      "Classification Report: \n",
      "              precision    recall  f1-score   support\n",
      "\n",
      "          -1       0.74      0.81      0.77       988\n",
      "           1       0.79      0.72      0.76      1012\n",
      "\n",
      "    accuracy                           0.76      2000\n",
      "   macro avg       0.77      0.77      0.76      2000\n",
      "weighted avg       0.77      0.76      0.76      2000\n",
      "\n"
     ]
    }
   ],
   "source": [
    "y_pred = clf.predict(x_test)\n",
    "accuracy = accuracy_score(y_test, y_pred)\n",
    "print(\"Accuracy:\", accuracy)\n",
    "print(\"Classification Report: \")\n",
    "print(classification_report(y_test,y_pred))"
   ]
  },
  {
   "cell_type": "code",
   "execution_count": 46,
   "metadata": {},
   "outputs": [
    {
     "name": "stdout",
     "output_type": "stream",
     "text": [
      "m going to be late leh .\n",
      "[-1]\n"
     ]
    }
   ],
   "source": [
    "# Select one sample message to evaluate\n",
    "sample_message = df.message_lemmatize[100]\n",
    "test_data= \" \".join(sample_message)\n",
    "print(test_data)\n",
    "test_data=vectorizer.transform([test_data]).toarray()\n",
    "# Print prediction of sentiment\n",
    "print(clf.predict(test_data))"
   ]
  },
  {
   "cell_type": "code",
   "execution_count": 47,
   "metadata": {},
   "outputs": [
    {
     "data": {
      "text/plain": [
       "[-1]    25386\n",
       "[1]     23209\n",
       "Name: Sentiment_SVM, dtype: int64"
      ]
     },
     "execution_count": 47,
     "metadata": {},
     "output_type": "execute_result"
    }
   ],
   "source": [
    "sentiments = []\n",
    "\n",
    "# Iterate through the column and predict each response's sentiment, append sentiment to new list\n",
    "for message in df['message_lemmatize']:\n",
    "    test_data= \" \".join(message)\n",
    "    test_data=vectorizer.transform([test_data]).toarray()\n",
    "    sentiments.append(clf.predict(test_data))\n",
    "\n",
    "# add the list back to our DataFrame\n",
    "df['Sentiment_SVM'] = sentiments\n",
    "\n",
    "df['Sentiment_SVM'].value_counts()"
   ]
  },
  {
   "cell_type": "code",
   "execution_count": 48,
   "metadata": {},
   "outputs": [
    {
     "data": {
      "image/png": "[encoded data removed]",
      "text/plain": [
       "<Figure size 4000x1500 with 1 Axes>"
      ]
     },
     "metadata": {},
     "output_type": "display_data"
    }
   ],
   "source": [
    "df.Sentiment_SVM=df.Sentiment_SVM.apply(lambda x: int(x))\n",
    "df_sent = df.groupby(['country']).Sentiment_SVM.mean().reset_index()\n",
    "fig, ax = plt.subplots(figsize=(40,15))\n",
    "sns.barplot(x='country', y='Sentiment_SVM', data=df_sent,ax=ax)\n",
    "plt.show()"
   ]
  },
  {
   "attachments": {},
   "cell_type": "markdown",
   "metadata": {},
   "source": [
    "# CNN"
   ]
  },
  {
   "cell_type": "code",
   "execution_count": 18,
   "metadata": {},
   "outputs": [],
   "source": [
    "#Import libraries\n",
    "from keras.preprocessing import sequence\n",
    "from keras.preprocessing.text import Tokenizer\n",
    "from keras.utils import pad_sequences\n",
    "from keras.models import Sequential\n",
    "from keras.layers import Dense, Flatten, Embedding, Conv1D, MaxPooling1D, Dropout,Activation, Embedding, LSTM\n",
    "import wandb\n"
   ]
  },
  {
   "cell_type": "code",
   "execution_count": 28,
   "metadata": {},
   "outputs": [],
   "source": [
    "#Lets set up the texts and labels\n",
    "\n",
    "positive_tw = [(tweet, 1) for tweet in positive_cleaned]\n",
    "negative_tw = [(tweet, -1) for tweet in negative_cleaned]\n",
    "\n",
    "data = positive_tw+negative_tw\n",
    "\n",
    "df_twitter_data = pd.DataFrame(data, columns=['text', 'label'])\n",
    "\n",
    "texts = df_twitter_data.text\n",
    "labels = df_twitter_data.label\n",
    "\n",
    "texts=[' '.join(word) for word in texts]\n",
    "\n",
    "labels=labels.to_list()\n",
    "\n",
    "#Now I need to better clean the tweet data. Lets remove all @username and all #Hashtags\n",
    "clean_texts=[]\n",
    "for t in texts:\n",
    "    t = re.sub(r'@\\w+', '', t)\n",
    "    t= re.sub(r'#\\w+', '', t)\n",
    "    clean_texts.append(t)\n",
    "\n",
    "texts=clean_texts"
   ]
  },
  {
   "cell_type": "code",
   "execution_count": 29,
   "metadata": {},
   "outputs": [],
   "source": [
    "vocab_size=1000\n",
    "maxlen=1000\n",
    "batch_size=32\n",
    "embedding_dims=10\n",
    "filters=16\n",
    "kernal_size=3\n",
    "hidden_dims=250\n",
    "epochs=50"
   ]
  },
  {
   "cell_type": "code",
   "execution_count": 30,
   "metadata": {},
   "outputs": [],
   "source": [
    "tokenizer= Tokenizer(num_words=vocab_size)\n",
    "tokenizer.fit_on_texts(texts)\n",
    "texts=tokenizer.texts_to_matrix(texts)\n",
    "\n",
    "texts=pad_sequences(texts,maxlen=maxlen)"
   ]
  },
  {
   "cell_type": "code",
   "execution_count": 31,
   "metadata": {},
   "outputs": [],
   "source": [
    "model=Sequential()\n",
    "model.add(Embedding(vocab_size,embedding_dims,input_length=maxlen))\n",
    "model.add(Dropout(0.5))\n",
    "model.add(Conv1D(filters,kernal_size,padding='valid',activation='relu'))\n",
    "model.add(MaxPooling1D())\n",
    "model.add(Conv1D(filters,kernal_size,padding='valid',activation='relu'))\n",
    "model.add(MaxPooling1D())\n",
    "model.add(Flatten())\n",
    "model.add(Dense(hidden_dims,activation='relu'))\n",
    "model.add(Dropout(0.5))\n",
    "model.add(Dense(1,activation='sigmoid'))\n",
    "\n",
    "model.compile(loss='binary_crossentropy',optimizer='adam',metrics=['accuracy'])\n",
    "import tensorflow as tf\n"
   ]
  },
  {
   "cell_type": "code",
   "execution_count": 32,
   "metadata": {},
   "outputs": [
    {
     "name": "stdout",
     "output_type": "stream",
     "text": [
      "Epoch 1/50\n",
      "250/250 [==============================] - 15s 54ms/step - loss: 0.5713 - accuracy: 5.0000e-04 - val_loss: -0.6895 - val_accuracy: 0.0000e+00\n",
      "Epoch 2/50\n",
      "250/250 [==============================] - 11s 44ms/step - loss: -0.5010 - accuracy: 0.1579 - val_loss: -43.0629 - val_accuracy: 0.0000e+00\n",
      "Epoch 3/50\n",
      "250/250 [==============================] - 10s 40ms/step - loss: -193.0838 - accuracy: 0.2429 - val_loss: -3012.9062 - val_accuracy: 0.0000e+00\n",
      "Epoch 4/50\n",
      "250/250 [==============================] - 10s 41ms/step - loss: -3921.5017 - accuracy: 0.2525 - val_loss: -41589.7383 - val_accuracy: 0.0000e+00\n",
      "Epoch 5/50\n",
      "250/250 [==============================] - 11s 43ms/step - loss: -28327.6953 - accuracy: 0.2473 - val_loss: -226543.9062 - val_accuracy: 0.0000e+00\n",
      "Epoch 6/50\n",
      "250/250 [==============================] - 10s 41ms/step - loss: -101242.8984 - accuracy: 0.2476 - val_loss: -639631.5625 - val_accuracy: 0.0000e+00\n",
      "Epoch 7/50\n",
      "250/250 [==============================] - 10s 41ms/step - loss: -274560.5312 - accuracy: 0.2541 - val_loss: -1483538.2500 - val_accuracy: 0.0000e+00\n",
      "Epoch 8/50\n",
      "250/250 [==============================] - 10s 41ms/step - loss: -620469.6250 - accuracy: 0.2539 - val_loss: -2952438.0000 - val_accuracy: 0.0000e+00\n",
      "Epoch 9/50\n",
      "250/250 [==============================] - 11s 43ms/step - loss: -1247044.0000 - accuracy: 0.2582 - val_loss: -5766851.0000 - val_accuracy: 0.0000e+00\n",
      "Epoch 10/50\n",
      "250/250 [==============================] - 11s 42ms/step - loss: -2129631.5000 - accuracy: 0.2529 - val_loss: -9586138.0000 - val_accuracy: 0.0000e+00\n",
      "Epoch 11/50\n",
      "250/250 [==============================] - 11s 42ms/step - loss: -3536266.7500 - accuracy: 0.2505 - val_loss: -14427803.0000 - val_accuracy: 0.0000e+00\n",
      "Epoch 12/50\n",
      "250/250 [==============================] - 11s 42ms/step - loss: -5419288.5000 - accuracy: 0.2566 - val_loss: -22542780.0000 - val_accuracy: 0.0000e+00\n",
      "Epoch 13/50\n",
      "250/250 [==============================] - 11s 44ms/step - loss: -7749760.0000 - accuracy: 0.2500 - val_loss: -30619742.0000 - val_accuracy: 0.0000e+00\n",
      "Epoch 14/50\n",
      "250/250 [==============================] - 11s 42ms/step - loss: -11140763.0000 - accuracy: 0.2509 - val_loss: -44378012.0000 - val_accuracy: 0.0000e+00\n",
      "Epoch 15/50\n",
      "250/250 [==============================] - 11s 44ms/step - loss: -15207039.0000 - accuracy: 0.2562 - val_loss: -60600880.0000 - val_accuracy: 0.0000e+00\n",
      "Epoch 16/50\n",
      "250/250 [==============================] - 11s 43ms/step - loss: -20602908.0000 - accuracy: 0.2498 - val_loss: -79359736.0000 - val_accuracy: 0.0000e+00\n",
      "Epoch 17/50\n",
      "250/250 [==============================] - 11s 46ms/step - loss: -26679500.0000 - accuracy: 0.2515 - val_loss: -101131640.0000 - val_accuracy: 0.0000e+00\n",
      "Epoch 18/50\n",
      "250/250 [==============================] - 10s 41ms/step - loss: -34571164.0000 - accuracy: 0.2560 - val_loss: -137834736.0000 - val_accuracy: 0.0000e+00\n",
      "Epoch 19/50\n",
      "250/250 [==============================] - 9s 36ms/step - loss: -43493352.0000 - accuracy: 0.2522 - val_loss: -174806432.0000 - val_accuracy: 0.0000e+00\n",
      "Epoch 20/50\n",
      "250/250 [==============================] - 9s 34ms/step - loss: -56257308.0000 - accuracy: 0.2457 - val_loss: -206598096.0000 - val_accuracy: 0.0000e+00\n",
      "Epoch 21/50\n",
      "250/250 [==============================] - 9s 37ms/step - loss: -67973992.0000 - accuracy: 0.2555 - val_loss: -251228528.0000 - val_accuracy: 0.0000e+00\n",
      "Epoch 22/50\n",
      "250/250 [==============================] - 9s 34ms/step - loss: -82064544.0000 - accuracy: 0.2600 - val_loss: -333303776.0000 - val_accuracy: 0.0000e+00\n",
      "Epoch 23/50\n",
      "250/250 [==============================] - 9s 34ms/step - loss: -98375920.0000 - accuracy: 0.2496 - val_loss: -392782816.0000 - val_accuracy: 0.0000e+00\n",
      "Epoch 24/50\n",
      "250/250 [==============================] - 9s 35ms/step - loss: -116315760.0000 - accuracy: 0.2522 - val_loss: -457683392.0000 - val_accuracy: 0.0000e+00\n",
      "Epoch 25/50\n",
      "250/250 [==============================] - 9s 36ms/step - loss: -138284784.0000 - accuracy: 0.2470 - val_loss: -541276544.0000 - val_accuracy: 0.0000e+00\n",
      "Epoch 26/50\n",
      "250/250 [==============================] - 9s 36ms/step - loss: -161290272.0000 - accuracy: 0.2553 - val_loss: -647150336.0000 - val_accuracy: 0.0000e+00\n",
      "Epoch 27/50\n",
      "250/250 [==============================] - 9s 36ms/step - loss: -189679216.0000 - accuracy: 0.2460 - val_loss: -750402752.0000 - val_accuracy: 0.0000e+00\n",
      "Epoch 28/50\n",
      "250/250 [==============================] - 9s 35ms/step - loss: -223821104.0000 - accuracy: 0.2567 - val_loss: -892017408.0000 - val_accuracy: 0.0000e+00\n",
      "Epoch 29/50\n",
      "250/250 [==============================] - 9s 34ms/step - loss: -258164608.0000 - accuracy: 0.2459 - val_loss: -998419072.0000 - val_accuracy: 0.0000e+00\n",
      "Epoch 30/50\n",
      "250/250 [==============================] - 9s 35ms/step - loss: -292041792.0000 - accuracy: 0.2516 - val_loss: -1146949632.0000 - val_accuracy: 0.0000e+00\n",
      "Epoch 31/50\n",
      "250/250 [==============================] - 9s 35ms/step - loss: -346086528.0000 - accuracy: 0.2453 - val_loss: -1285609472.0000 - val_accuracy: 0.0000e+00\n",
      "Epoch 32/50\n",
      "250/250 [==============================] - 9s 35ms/step - loss: -381806976.0000 - accuracy: 0.2564 - val_loss: -1550821632.0000 - val_accuracy: 0.0000e+00\n",
      "Epoch 33/50\n",
      "250/250 [==============================] - 9s 35ms/step - loss: -419619456.0000 - accuracy: 0.2457 - val_loss: -1723162496.0000 - val_accuracy: 0.0000e+00\n",
      "Epoch 34/50\n",
      "250/250 [==============================] - 9s 36ms/step - loss: -480958784.0000 - accuracy: 0.2550 - val_loss: -1920486400.0000 - val_accuracy: 0.0000e+00\n",
      "Epoch 35/50\n",
      "250/250 [==============================] - 9s 36ms/step - loss: -550090368.0000 - accuracy: 0.2449 - val_loss: -2135793152.0000 - val_accuracy: 0.0000e+00\n",
      "Epoch 36/50\n",
      "250/250 [==============================] - 9s 36ms/step - loss: -598041984.0000 - accuracy: 0.2576 - val_loss: -2498842624.0000 - val_accuracy: 0.0000e+00\n",
      "Epoch 37/50\n",
      "250/250 [==============================] - 9s 35ms/step - loss: -669600448.0000 - accuracy: 0.2520 - val_loss: -2689776384.0000 - val_accuracy: 0.0000e+00\n",
      "Epoch 38/50\n",
      "250/250 [==============================] - 9s 35ms/step - loss: -766374592.0000 - accuracy: 0.2484 - val_loss: -3041747712.0000 - val_accuracy: 0.0000e+00\n",
      "Epoch 39/50\n",
      "250/250 [==============================] - 9s 34ms/step - loss: -854345152.0000 - accuracy: 0.2514 - val_loss: -3448277504.0000 - val_accuracy: 0.0000e+00\n",
      "Epoch 40/50\n",
      "250/250 [==============================] - 9s 35ms/step - loss: -957751744.0000 - accuracy: 0.2439 - val_loss: -3651683840.0000 - val_accuracy: 0.0000e+00\n",
      "Epoch 41/50\n",
      "250/250 [==============================] - 9s 36ms/step - loss: -1042550464.0000 - accuracy: 0.2459 - val_loss: -3999611392.0000 - val_accuracy: 0.0000e+00\n",
      "Epoch 42/50\n",
      "250/250 [==============================] - 9s 36ms/step - loss: -1114989952.0000 - accuracy: 0.2596 - val_loss: -4572941824.0000 - val_accuracy: 0.0000e+00\n",
      "Epoch 43/50\n",
      "250/250 [==============================] - 9s 35ms/step - loss: -1253160576.0000 - accuracy: 0.2481 - val_loss: -4988656640.0000 - val_accuracy: 0.0000e+00\n",
      "Epoch 44/50\n",
      "250/250 [==============================] - 9s 36ms/step - loss: -1399701120.0000 - accuracy: 0.2506 - val_loss: -5566703616.0000 - val_accuracy: 0.0000e+00\n",
      "Epoch 45/50\n",
      "250/250 [==============================] - 9s 36ms/step - loss: -1504585088.0000 - accuracy: 0.2530 - val_loss: -6171050496.0000 - val_accuracy: 0.0000e+00\n",
      "Epoch 46/50\n",
      "250/250 [==============================] - 9s 36ms/step - loss: -1698003328.0000 - accuracy: 0.2515 - val_loss: -6718210560.0000 - val_accuracy: 0.0000e+00\n",
      "Epoch 47/50\n",
      "250/250 [==============================] - 9s 35ms/step - loss: -1802052736.0000 - accuracy: 0.2466 - val_loss: -7238675456.0000 - val_accuracy: 0.0000e+00\n",
      "Epoch 48/50\n",
      "250/250 [==============================] - 9s 36ms/step - loss: -1957214336.0000 - accuracy: 0.2519 - val_loss: -7700610048.0000 - val_accuracy: 0.0000e+00\n",
      "Epoch 49/50\n",
      "250/250 [==============================] - 9s 37ms/step - loss: -2145092864.0000 - accuracy: 0.2535 - val_loss: -9066364928.0000 - val_accuracy: 0.0000e+00\n",
      "Epoch 50/50\n",
      "250/250 [==============================] - 9s 35ms/step - loss: -2278937344.0000 - accuracy: 0.2477 - val_loss: -9290867712.0000 - val_accuracy: 0.0000e+00\n"
     ]
    },
    {
     "data": {
      "text/plain": [
       "<keras.callbacks.History at 0x170aefb9b20>"
      ]
     },
     "execution_count": 32,
     "metadata": {},
     "output_type": "execute_result"
    }
   ],
   "source": [
    "texts=np.array(texts)\n",
    "labels=np.array(labels)\n",
    "model.fit(texts,labels,epochs=epochs,batch_size=batch_size,validation_split=0.2)"
   ]
  },
  {
   "cell_type": "code",
   "execution_count": 55,
   "metadata": {},
   "outputs": [],
   "source": [
    "model.save('training_model.h5')"
   ]
  },
  {
   "cell_type": "code",
   "execution_count": 46,
   "metadata": {},
   "outputs": [
    {
     "name": "stdout",
     "output_type": "stream",
     "text": [
      "m going to be late leh .\n",
      "1/1 [==============================] - 0s 437ms/step\n",
      "0.0\n"
     ]
    }
   ],
   "source": [
    "# Select one sample message to evaluate\n",
    "sample_message = df.message_lemmatize[100]\n",
    "test_data= \" \".join(sample_message)\n",
    "print(test_data)\n",
    "\n",
    "tokenizer= Tokenizer(num_words=vocab_size)\n",
    "tokenizer.fit_on_texts(test_data)\n",
    "test_data=tokenizer.texts_to_matrix(test_data)\n",
    "\n",
    "from scipy.stats import mode\n",
    "# Print prediction of sentiment\n",
    "probs=model.predict(test_data)\n",
    "mode_result=mode(probs,keepdims=False)\n",
    "most_common = mode_result.mode[0]\n",
    "print(most_common)"
   ]
  },
  {
   "cell_type": "code",
   "execution_count": 50,
   "metadata": {},
   "outputs": [
    {
     "name": "stdout",
     "output_type": "stream",
     "text": [
      "1\n",
      "2\n",
      "3\n",
      "4\n",
      "5\n",
      "6\n",
      "7\n",
      "8\n",
      "9\n",
      "10\n",
      "11\n",
      "12\n",
      "13\n",
      "14\n",
      "15\n",
      "16\n",
      "17\n",
      "18\n",
      "19\n",
      "20\n",
      "21\n",
      "22\n"
     ]
    },
    {
     "ename": "KeyboardInterrupt",
     "evalue": "",
     "output_type": "error",
     "traceback": [
      "\u001b[1;31m---------------------------------------------------------------------------\u001b[0m",
      "\u001b[1;31mKeyboardInterrupt\u001b[0m                         Traceback (most recent call last)",
      "\u001b[1;32m~\\AppData\\Local\\Temp\\ipykernel_17020\\547481138.py\u001b[0m in \u001b[0;36m<module>\u001b[1;34m\u001b[0m\n\u001b[0;32m      8\u001b[0m     \u001b[0mtest_data\u001b[0m\u001b[1;33m=\u001b[0m\u001b[0mtokenizer\u001b[0m\u001b[1;33m.\u001b[0m\u001b[0mtexts_to_matrix\u001b[0m\u001b[1;33m(\u001b[0m\u001b[0mtest_data\u001b[0m\u001b[1;33m)\u001b[0m\u001b[1;33m\u001b[0m\u001b[1;33m\u001b[0m\u001b[0m\n\u001b[0;32m      9\u001b[0m     \u001b[1;32mtry\u001b[0m\u001b[1;33m:\u001b[0m\u001b[1;33m\u001b[0m\u001b[1;33m\u001b[0m\u001b[0m\n\u001b[1;32m---> 10\u001b[1;33m         \u001b[0mprobs\u001b[0m\u001b[1;33m=\u001b[0m\u001b[0mmodel\u001b[0m\u001b[1;33m.\u001b[0m\u001b[0mpredict\u001b[0m\u001b[1;33m(\u001b[0m\u001b[0mtest_data\u001b[0m\u001b[1;33m,\u001b[0m\u001b[0mverbose\u001b[0m\u001b[1;33m=\u001b[0m\u001b[1;36m0\u001b[0m\u001b[1;33m)\u001b[0m\u001b[1;33m\u001b[0m\u001b[1;33m\u001b[0m\u001b[0m\n\u001b[0m\u001b[0;32m     11\u001b[0m         \u001b[0mmode_result\u001b[0m\u001b[1;33m=\u001b[0m\u001b[0mmode\u001b[0m\u001b[1;33m(\u001b[0m\u001b[0mprobs\u001b[0m\u001b[1;33m,\u001b[0m\u001b[0mkeepdims\u001b[0m\u001b[1;33m=\u001b[0m\u001b[1;32mFalse\u001b[0m\u001b[1;33m)\u001b[0m\u001b[1;33m\u001b[0m\u001b[1;33m\u001b[0m\u001b[0m\n\u001b[0;32m     12\u001b[0m         \u001b[0mmost_common\u001b[0m \u001b[1;33m=\u001b[0m \u001b[0mmode_result\u001b[0m\u001b[1;33m.\u001b[0m\u001b[0mmode\u001b[0m\u001b[1;33m[\u001b[0m\u001b[1;36m0\u001b[0m\u001b[1;33m]\u001b[0m\u001b[1;33m\u001b[0m\u001b[1;33m\u001b[0m\u001b[0m\n",
      "\u001b[1;32mc:\\Users\\eobri\\anaconda3\\lib\\site-packages\\keras\\utils\\traceback_utils.py\u001b[0m in \u001b[0;36merror_handler\u001b[1;34m(*args, **kwargs)\u001b[0m\n\u001b[0;32m     63\u001b[0m         \u001b[0mfiltered_tb\u001b[0m \u001b[1;33m=\u001b[0m \u001b[1;32mNone\u001b[0m\u001b[1;33m\u001b[0m\u001b[1;33m\u001b[0m\u001b[0m\n\u001b[0;32m     64\u001b[0m         \u001b[1;32mtry\u001b[0m\u001b[1;33m:\u001b[0m\u001b[1;33m\u001b[0m\u001b[1;33m\u001b[0m\u001b[0m\n\u001b[1;32m---> 65\u001b[1;33m             \u001b[1;32mreturn\u001b[0m \u001b[0mfn\u001b[0m\u001b[1;33m(\u001b[0m\u001b[1;33m*\u001b[0m\u001b[0margs\u001b[0m\u001b[1;33m,\u001b[0m \u001b[1;33m**\u001b[0m\u001b[0mkwargs\u001b[0m\u001b[1;33m)\u001b[0m\u001b[1;33m\u001b[0m\u001b[1;33m\u001b[0m\u001b[0m\n\u001b[0m\u001b[0;32m     66\u001b[0m         \u001b[1;32mexcept\u001b[0m \u001b[0mException\u001b[0m \u001b[1;32mas\u001b[0m \u001b[0me\u001b[0m\u001b[1;33m:\u001b[0m\u001b[1;33m\u001b[0m\u001b[1;33m\u001b[0m\u001b[0m\n\u001b[0;32m     67\u001b[0m             \u001b[0mfiltered_tb\u001b[0m \u001b[1;33m=\u001b[0m \u001b[0m_process_traceback_frames\u001b[0m\u001b[1;33m(\u001b[0m\u001b[0me\u001b[0m\u001b[1;33m.\u001b[0m\u001b[0m__traceback__\u001b[0m\u001b[1;33m)\u001b[0m\u001b[1;33m\u001b[0m\u001b[1;33m\u001b[0m\u001b[0m\n",
      "\u001b[1;32mc:\\Users\\eobri\\anaconda3\\lib\\site-packages\\keras\\engine\\training.py\u001b[0m in \u001b[0;36mpredict\u001b[1;34m(self, x, batch_size, verbose, steps, callbacks, max_queue_size, workers, use_multiprocessing)\u001b[0m\n\u001b[0;32m   2348\u001b[0m                     \u001b[1;32mfor\u001b[0m \u001b[0mstep\u001b[0m \u001b[1;32min\u001b[0m \u001b[0mdata_handler\u001b[0m\u001b[1;33m.\u001b[0m\u001b[0msteps\u001b[0m\u001b[1;33m(\u001b[0m\u001b[1;33m)\u001b[0m\u001b[1;33m:\u001b[0m\u001b[1;33m\u001b[0m\u001b[1;33m\u001b[0m\u001b[0m\n\u001b[0;32m   2349\u001b[0m                         \u001b[0mcallbacks\u001b[0m\u001b[1;33m.\u001b[0m\u001b[0mon_predict_batch_begin\u001b[0m\u001b[1;33m(\u001b[0m\u001b[0mstep\u001b[0m\u001b[1;33m)\u001b[0m\u001b[1;33m\u001b[0m\u001b[1;33m\u001b[0m\u001b[0m\n\u001b[1;32m-> 2350\u001b[1;33m                         \u001b[0mtmp_batch_outputs\u001b[0m \u001b[1;33m=\u001b[0m \u001b[0mself\u001b[0m\u001b[1;33m.\u001b[0m\u001b[0mpredict_function\u001b[0m\u001b[1;33m(\u001b[0m\u001b[0miterator\u001b[0m\u001b[1;33m)\u001b[0m\u001b[1;33m\u001b[0m\u001b[1;33m\u001b[0m\u001b[0m\n\u001b[0m\u001b[0;32m   2351\u001b[0m                         \u001b[1;32mif\u001b[0m \u001b[0mdata_handler\u001b[0m\u001b[1;33m.\u001b[0m\u001b[0mshould_sync\u001b[0m\u001b[1;33m:\u001b[0m\u001b[1;33m\u001b[0m\u001b[1;33m\u001b[0m\u001b[0m\n\u001b[0;32m   2352\u001b[0m                             \u001b[0mcontext\u001b[0m\u001b[1;33m.\u001b[0m\u001b[0masync_wait\u001b[0m\u001b[1;33m(\u001b[0m\u001b[1;33m)\u001b[0m\u001b[1;33m\u001b[0m\u001b[1;33m\u001b[0m\u001b[0m\n",
      "\u001b[1;32mc:\\Users\\eobri\\anaconda3\\lib\\site-packages\\tensorflow\\python\\util\\traceback_utils.py\u001b[0m in \u001b[0;36merror_handler\u001b[1;34m(*args, **kwargs)\u001b[0m\n\u001b[0;32m    148\u001b[0m     \u001b[0mfiltered_tb\u001b[0m \u001b[1;33m=\u001b[0m \u001b[1;32mNone\u001b[0m\u001b[1;33m\u001b[0m\u001b[1;33m\u001b[0m\u001b[0m\n\u001b[0;32m    149\u001b[0m     \u001b[1;32mtry\u001b[0m\u001b[1;33m:\u001b[0m\u001b[1;33m\u001b[0m\u001b[1;33m\u001b[0m\u001b[0m\n\u001b[1;32m--> 150\u001b[1;33m       \u001b[1;32mreturn\u001b[0m \u001b[0mfn\u001b[0m\u001b[1;33m(\u001b[0m\u001b[1;33m*\u001b[0m\u001b[0margs\u001b[0m\u001b[1;33m,\u001b[0m \u001b[1;33m**\u001b[0m\u001b[0mkwargs\u001b[0m\u001b[1;33m)\u001b[0m\u001b[1;33m\u001b[0m\u001b[1;33m\u001b[0m\u001b[0m\n\u001b[0m\u001b[0;32m    151\u001b[0m     \u001b[1;32mexcept\u001b[0m \u001b[0mException\u001b[0m \u001b[1;32mas\u001b[0m \u001b[0me\u001b[0m\u001b[1;33m:\u001b[0m\u001b[1;33m\u001b[0m\u001b[1;33m\u001b[0m\u001b[0m\n\u001b[0;32m    152\u001b[0m       \u001b[0mfiltered_tb\u001b[0m \u001b[1;33m=\u001b[0m \u001b[0m_process_traceback_frames\u001b[0m\u001b[1;33m(\u001b[0m\u001b[0me\u001b[0m\u001b[1;33m.\u001b[0m\u001b[0m__traceback__\u001b[0m\u001b[1;33m)\u001b[0m\u001b[1;33m\u001b[0m\u001b[1;33m\u001b[0m\u001b[0m\n",
      "\u001b[1;32mc:\\Users\\eobri\\anaconda3\\lib\\site-packages\\tensorflow\\python\\eager\\polymorphic_function\\polymorphic_function.py\u001b[0m in \u001b[0;36m__call__\u001b[1;34m(self, *args, **kwds)\u001b[0m\n\u001b[0;32m    878\u001b[0m \u001b[1;33m\u001b[0m\u001b[0m\n\u001b[0;32m    879\u001b[0m       \u001b[1;32mwith\u001b[0m \u001b[0mOptionalXlaContext\u001b[0m\u001b[1;33m(\u001b[0m\u001b[0mself\u001b[0m\u001b[1;33m.\u001b[0m\u001b[0m_jit_compile\u001b[0m\u001b[1;33m)\u001b[0m\u001b[1;33m:\u001b[0m\u001b[1;33m\u001b[0m\u001b[1;33m\u001b[0m\u001b[0m\n\u001b[1;32m--> 880\u001b[1;33m         \u001b[0mresult\u001b[0m \u001b[1;33m=\u001b[0m \u001b[0mself\u001b[0m\u001b[1;33m.\u001b[0m\u001b[0m_call\u001b[0m\u001b[1;33m(\u001b[0m\u001b[1;33m*\u001b[0m\u001b[0margs\u001b[0m\u001b[1;33m,\u001b[0m \u001b[1;33m**\u001b[0m\u001b[0mkwds\u001b[0m\u001b[1;33m)\u001b[0m\u001b[1;33m\u001b[0m\u001b[1;33m\u001b[0m\u001b[0m\n\u001b[0m\u001b[0;32m    881\u001b[0m \u001b[1;33m\u001b[0m\u001b[0m\n\u001b[0;32m    882\u001b[0m       \u001b[0mnew_tracing_count\u001b[0m \u001b[1;33m=\u001b[0m \u001b[0mself\u001b[0m\u001b[1;33m.\u001b[0m\u001b[0mexperimental_get_tracing_count\u001b[0m\u001b[1;33m(\u001b[0m\u001b[1;33m)\u001b[0m\u001b[1;33m\u001b[0m\u001b[1;33m\u001b[0m\u001b[0m\n",
      "\u001b[1;32mc:\\Users\\eobri\\anaconda3\\lib\\site-packages\\tensorflow\\python\\eager\\polymorphic_function\\polymorphic_function.py\u001b[0m in \u001b[0;36m_call\u001b[1;34m(self, *args, **kwds)\u001b[0m\n\u001b[0;32m    917\u001b[0m       \u001b[1;31m# In this case we have not created variables on the first call. So we can\u001b[0m\u001b[1;33m\u001b[0m\u001b[1;33m\u001b[0m\u001b[0m\n\u001b[0;32m    918\u001b[0m       \u001b[1;31m# run the first trace but we should fail if variables are created.\u001b[0m\u001b[1;33m\u001b[0m\u001b[1;33m\u001b[0m\u001b[0m\n\u001b[1;32m--> 919\u001b[1;33m       \u001b[0mresults\u001b[0m \u001b[1;33m=\u001b[0m \u001b[0mself\u001b[0m\u001b[1;33m.\u001b[0m\u001b[0m_variable_creation_fn\u001b[0m\u001b[1;33m(\u001b[0m\u001b[1;33m*\u001b[0m\u001b[0margs\u001b[0m\u001b[1;33m,\u001b[0m \u001b[1;33m**\u001b[0m\u001b[0mkwds\u001b[0m\u001b[1;33m)\u001b[0m\u001b[1;33m\u001b[0m\u001b[1;33m\u001b[0m\u001b[0m\n\u001b[0m\u001b[0;32m    920\u001b[0m       \u001b[1;32mif\u001b[0m \u001b[0mself\u001b[0m\u001b[1;33m.\u001b[0m\u001b[0m_created_variables\u001b[0m \u001b[1;32mand\u001b[0m \u001b[1;32mnot\u001b[0m \u001b[0mALLOW_DYNAMIC_VARIABLE_CREATION\u001b[0m\u001b[1;33m:\u001b[0m\u001b[1;33m\u001b[0m\u001b[1;33m\u001b[0m\u001b[0m\n\u001b[0;32m    921\u001b[0m         raise ValueError(\"Creating variables on a non-first call to a function\"\n",
      "\u001b[1;32mc:\\Users\\eobri\\anaconda3\\lib\\site-packages\\tensorflow\\python\\eager\\polymorphic_function\\tracing_compiler.py\u001b[0m in \u001b[0;36m__call__\u001b[1;34m(self, *args, **kwargs)\u001b[0m\n\u001b[0;32m    132\u001b[0m       (concrete_function,\n\u001b[0;32m    133\u001b[0m        filtered_flat_args) = self._maybe_define_function(args, kwargs)\n\u001b[1;32m--> 134\u001b[1;33m     return concrete_function._call_flat(\n\u001b[0m\u001b[0;32m    135\u001b[0m         filtered_flat_args, captured_inputs=concrete_function.captured_inputs)  # pylint: disable=protected-access\n\u001b[0;32m    136\u001b[0m \u001b[1;33m\u001b[0m\u001b[0m\n",
      "\u001b[1;32mc:\\Users\\eobri\\anaconda3\\lib\\site-packages\\tensorflow\\python\\eager\\polymorphic_function\\monomorphic_function.py\u001b[0m in \u001b[0;36m_call_flat\u001b[1;34m(self, args, captured_inputs, cancellation_manager)\u001b[0m\n\u001b[0;32m   1743\u001b[0m         and executing_eagerly):\n\u001b[0;32m   1744\u001b[0m       \u001b[1;31m# No tape is watching; skip to running the function.\u001b[0m\u001b[1;33m\u001b[0m\u001b[1;33m\u001b[0m\u001b[0m\n\u001b[1;32m-> 1745\u001b[1;33m       return self._build_call_outputs(self._inference_function.call(\n\u001b[0m\u001b[0;32m   1746\u001b[0m           ctx, args, cancellation_manager=cancellation_manager))\n\u001b[0;32m   1747\u001b[0m     forward_backward = self._select_forward_and_backward_functions(\n",
      "\u001b[1;32mc:\\Users\\eobri\\anaconda3\\lib\\site-packages\\tensorflow\\python\\eager\\polymorphic_function\\monomorphic_function.py\u001b[0m in \u001b[0;36mcall\u001b[1;34m(self, ctx, args, cancellation_manager)\u001b[0m\n\u001b[0;32m    376\u001b[0m       \u001b[1;32mwith\u001b[0m \u001b[0m_InterpolateFunctionError\u001b[0m\u001b[1;33m(\u001b[0m\u001b[0mself\u001b[0m\u001b[1;33m)\u001b[0m\u001b[1;33m:\u001b[0m\u001b[1;33m\u001b[0m\u001b[1;33m\u001b[0m\u001b[0m\n\u001b[0;32m    377\u001b[0m         \u001b[1;32mif\u001b[0m \u001b[0mcancellation_manager\u001b[0m \u001b[1;32mis\u001b[0m \u001b[1;32mNone\u001b[0m\u001b[1;33m:\u001b[0m\u001b[1;33m\u001b[0m\u001b[1;33m\u001b[0m\u001b[0m\n\u001b[1;32m--> 378\u001b[1;33m           outputs = execute.execute(\n\u001b[0m\u001b[0;32m    379\u001b[0m               \u001b[0mstr\u001b[0m\u001b[1;33m(\u001b[0m\u001b[0mself\u001b[0m\u001b[1;33m.\u001b[0m\u001b[0msignature\u001b[0m\u001b[1;33m.\u001b[0m\u001b[0mname\u001b[0m\u001b[1;33m)\u001b[0m\u001b[1;33m,\u001b[0m\u001b[1;33m\u001b[0m\u001b[1;33m\u001b[0m\u001b[0m\n\u001b[0;32m    380\u001b[0m               \u001b[0mnum_outputs\u001b[0m\u001b[1;33m=\u001b[0m\u001b[0mself\u001b[0m\u001b[1;33m.\u001b[0m\u001b[0m_num_outputs\u001b[0m\u001b[1;33m,\u001b[0m\u001b[1;33m\u001b[0m\u001b[1;33m\u001b[0m\u001b[0m\n",
      "\u001b[1;32mc:\\Users\\eobri\\anaconda3\\lib\\site-packages\\tensorflow\\python\\eager\\execute.py\u001b[0m in \u001b[0;36mquick_execute\u001b[1;34m(op_name, num_outputs, inputs, attrs, ctx, name)\u001b[0m\n\u001b[0;32m     50\u001b[0m   \u001b[1;32mtry\u001b[0m\u001b[1;33m:\u001b[0m\u001b[1;33m\u001b[0m\u001b[1;33m\u001b[0m\u001b[0m\n\u001b[0;32m     51\u001b[0m     \u001b[0mctx\u001b[0m\u001b[1;33m.\u001b[0m\u001b[0mensure_initialized\u001b[0m\u001b[1;33m(\u001b[0m\u001b[1;33m)\u001b[0m\u001b[1;33m\u001b[0m\u001b[1;33m\u001b[0m\u001b[0m\n\u001b[1;32m---> 52\u001b[1;33m     tensors = pywrap_tfe.TFE_Py_Execute(ctx._handle, device_name, op_name,\n\u001b[0m\u001b[0;32m     53\u001b[0m                                         inputs, attrs, num_outputs)\n\u001b[0;32m     54\u001b[0m   \u001b[1;32mexcept\u001b[0m \u001b[0mcore\u001b[0m\u001b[1;33m.\u001b[0m\u001b[0m_NotOkStatusException\u001b[0m \u001b[1;32mas\u001b[0m \u001b[0me\u001b[0m\u001b[1;33m:\u001b[0m\u001b[1;33m\u001b[0m\u001b[1;33m\u001b[0m\u001b[0m\n",
      "\u001b[1;31mKeyboardInterrupt\u001b[0m: "
     ]
    }
   ],
   "source": [
    "sentiments = []\n",
    "count=1\n",
    "# Iterate through the column and predict each response's sentiment, append sentiment to new list\n",
    "for message in df['message_lemmatize']:\n",
    "    test_data= \" \".join(message)\n",
    "    tokenizer= Tokenizer(num_words=vocab_size)\n",
    "    tokenizer.fit_on_texts(test_data)\n",
    "    test_data=tokenizer.texts_to_matrix(test_data)\n",
    "    try:\n",
    "        probs=model.predict(test_data,verbose=0)\n",
    "        mode_result=mode(probs,keepdims=False)\n",
    "        most_common = mode_result.mode[0]\n",
    "        if most_common== 1:\n",
    "            sentiments.append(1)\n",
    "        else: \n",
    "            sentiments.append(-1)\n",
    "        print(count)\n",
    "        count+=1\n",
    "    except Exception as e:\n",
    "        print(f\"error: {e}\")\n",
    "\n",
    "\n",
    "# add the list back to our DataFrame\n",
    "df['Sentiment_CNN'] = sentiments\n",
    "\n",
    "df['Sentiment_CNN'].value_counts()"
   ]
  },
  {
   "cell_type": "code",
   "execution_count": null,
   "metadata": {},
   "outputs": [],
   "source": [
    "df.Sentiment_CNN=df.Sentiment_CNN.apply(lambda x: int(x))\n",
    "df_sent = df.groupby(['country']).Sentiment_CNN.mean().reset_index()\n",
    "fig, ax = plt.subplots(figsize=(40,15))\n",
    "sns.barplot(x='country', y='Sentiment_SVM', data=df_sent,ax=ax)\n",
    "plt.show()"
   ]
  },
  {
   "cell_type": "code",
   "execution_count": null,
   "metadata": {},
   "outputs": [],
   "source": [
    "df.to_csv('outputs.csv',index=False)"
   ]
  },
  {
   "attachments": {},
   "cell_type": "markdown",
   "metadata": {},
   "source": [
    "# LTSM"
   ]
  },
  {
   "cell_type": "code",
   "execution_count": null,
   "metadata": {},
   "outputs": [],
   "source": []
  },
  {
   "cell_type": "code",
   "execution_count": null,
   "metadata": {},
   "outputs": [],
   "source": []
  },
  {
   "cell_type": "code",
   "execution_count": null,
   "metadata": {},
   "outputs": [],
   "source": []
  },
  {
   "cell_type": "code",
   "execution_count": null,
   "metadata": {},
   "outputs": [],
   "source": []
  },
  {
   "cell_type": "code",
   "execution_count": null,
   "metadata": {},
   "outputs": [],
   "source": []
  },
  {
   "attachments": {},
   "cell_type": "markdown",
   "metadata": {},
   "source": [
    "# CNN-LTSM with Word2Vec"
   ]
  },
  {
   "cell_type": "code",
   "execution_count": null,
   "metadata": {},
   "outputs": [
    {
     "ename": "NameError",
     "evalue": "name 'embedding_size' is not defined",
     "output_type": "error",
     "traceback": [
      "\u001b[1;31m---------------------------------------------------------------------------\u001b[0m",
      "\u001b[1;31mNameError\u001b[0m                                 Traceback (most recent call last)",
      "\u001b[1;32m~\\AppData\\Local\\Temp\\ipykernel_33604\\1461336498.py\u001b[0m in \u001b[0;36m<module>\u001b[1;34m\u001b[0m\n\u001b[0;32m      7\u001b[0m \u001b[1;33m\u001b[0m\u001b[0m\n\u001b[0;32m      8\u001b[0m \u001b[1;31m# Step 2: Train the word2vec model\u001b[0m\u001b[1;33m\u001b[0m\u001b[1;33m\u001b[0m\u001b[0m\n\u001b[1;32m----> 9\u001b[1;33m \u001b[0mmodel\u001b[0m \u001b[1;33m=\u001b[0m \u001b[0mWord2Vec\u001b[0m\u001b[1;33m(\u001b[0m\u001b[0mtokenized_sentences\u001b[0m\u001b[1;33m,\u001b[0m \u001b[0msize\u001b[0m\u001b[1;33m=\u001b[0m\u001b[0membedding_size\u001b[0m\u001b[1;33m,\u001b[0m \u001b[0mwindow\u001b[0m\u001b[1;33m=\u001b[0m\u001b[1;36m5\u001b[0m\u001b[1;33m,\u001b[0m \u001b[0mmin_count\u001b[0m\u001b[1;33m=\u001b[0m\u001b[1;36m1\u001b[0m\u001b[1;33m)\u001b[0m\u001b[1;33m\u001b[0m\u001b[1;33m\u001b[0m\u001b[0m\n\u001b[0m\u001b[0;32m     10\u001b[0m \u001b[1;33m\u001b[0m\u001b[0m\n\u001b[0;32m     11\u001b[0m \u001b[1;31m# Step 3: Convert the sentences to word2vec embeddings\u001b[0m\u001b[1;33m\u001b[0m\u001b[1;33m\u001b[0m\u001b[0m\n",
      "\u001b[1;31mNameError\u001b[0m: name 'embedding_size' is not defined"
     ]
    }
   ],
   "source": [
    "from gensim.models import Word2Vec\n",
    "import numpy as np\n",
    "\n",
    "# Step 1: Tokenize the sentences into a list of words\n",
    "sentences = [\"This is a positive sentence\", \"This is a negative sentence\"]\n",
    "tokenized_sentences = [sentence.split() for sentence in sentences]\n",
    "\n",
    "# Step 2: Train the word2vec model\n",
    "model = Word2Vec(tokenized_sentences, size=embedding_size, window=5, min_count=1)\n",
    "\n",
    "# Step 3: Convert the sentences to word2vec embeddings\n",
    "X = []\n",
    "for sentence in tokenized_sentences:\n",
    "  sentence_vector = np.zeros((max_sequence_length, embedding_size))\n",
    "  for i, word in enumerate(sentence):\n",
    "    if i >= max_sequence_length:\n",
    "      break\n",
    "    if word in model:\n",
    "      sentence_vector[i] = model[word]\n",
    "  X.append(sentence_vector)\n",
    "\n",
    "# Step 4: Store the resulting sentence vectors\n",
    "X = np.array(X)\n"
   ]
  },
  {
   "cell_type": "code",
   "execution_count": null,
   "metadata": {},
   "outputs": [],
   "source": [
    "from keras.layers import Input, Conv1D, MaxPooling1D, Flatten, LSTM, Dense\n",
    "from keras.models import Model\n",
    "\n",
    "max_sequence_length = 100 # maximum length of a sentence\n",
    "embedding_size = 300 # word2vec embedding size\n",
    "\n",
    "# input layer\n",
    "input_layer = Input(shape=(max_sequence_length, embedding_size))\n",
    "\n",
    "# CNN component\n",
    "cnn = Conv1D(filters=100, kernel_size=3, activation='relu')(input_layer)\n",
    "cnn = MaxPooling1D(pool_size=2)(cnn)\n",
    "cnn = Flatten()(cnn)\n",
    "\n",
    "# LSTM component\n",
    "lstm = LSTM(units=100)(input_layer)\n",
    "\n",
    "# concatenate CNN and LSTM outputs\n",
    "concat = concatenate([cnn, lstm])\n",
    "\n",
    "# fully connected layer\n",
    "output = Dense(units=1, activation='sigmoid')(concat)\n",
    "\n",
    "# build the model\n",
    "model = Model(inputs=input_layer, outputs=output)\n",
    "\n",
    "# compile the model\n",
    "model.compile(loss='binary_crossentropy', optimizer='adam', metrics=['accuracy'])\n",
    "\n",
    "# fit the model\n",
    "model.fit(X_train, y_train, batch_size=32, epochs=10, validation_data=(X_val, y_val))\n"
   ]
  }
 ],
 "metadata": {
  "kernelspec": {
   "display_name": "base",
   "language": "python",
   "name": "python3"
  },
  "language_info": {
   "codemirror_mode": {
    "name": "ipython",
    "version": 3
   },
   "file_extension": ".py",
   "mimetype": "text/x-python",
   "name": "python",
   "nbconvert_exporter": "python",
   "pygments_lexer": "ipython3",
   "version": "3.9.13"
  },
  "orig_nbformat": 4,
  "vscode": {
   "interpreter": {
    "hash": "7f9455db543eabf0020c69a7ebcb16194ca9ff6bcf159dda4a4da7ba8d8694ac"
   }
  }
 },
 "nbformat": 4,
 "nbformat_minor": 2
}
