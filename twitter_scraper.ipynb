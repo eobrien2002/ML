{
 "cells": [
  {
   "cell_type": "code",
   "execution_count": 11,
   "metadata": {},
   "outputs": [],
   "source": [
    "import tweepy\n",
    "import pandas as pd\n",
    "api_key= \"gFk1FJZNCGDUCDJ7vZf1UuFqk\"\n",
    "api_key_secret= \"Nwz6uPNuspBGvX7hwDuwtHeuOw2DSmWTWaUMP5U6H5gYoat4oV\"\n",
    "access_token= \"1209662323666948097-jdwhWapUPvIpIt3nVBNWZ3BWn07gqo\"\n",
    "access_token_secret= \"1XPYCMNWIZxm6ygnQQ9pmTRrhP51FsJWS1RuVInTiDKNZ\"\n",
    "auth = tweepy.OAuthHandler(api_key, api_key_secret)\n",
    "auth.set_access_token(access_token, access_token_secret)\n",
    "api = tweepy.API(auth)\n"
   ]
  },
  {
   "cell_type": "code",
   "execution_count": 33,
   "metadata": {},
   "outputs": [
    {
     "data": {
      "text/html": [
       "<div>\n",
       "<style scoped>\n",
       "    .dataframe tbody tr th:only-of-type {\n",
       "        vertical-align: middle;\n",
       "    }\n",
       "\n",
       "    .dataframe tbody tr th {\n",
       "        vertical-align: top;\n",
       "    }\n",
       "\n",
       "    .dataframe thead th {\n",
       "        text-align: right;\n",
       "    }\n",
       "</style>\n",
       "<table border=\"1\" class=\"dataframe\">\n",
       "  <thead>\n",
       "    <tr style=\"text-align: right;\">\n",
       "      <th></th>\n",
       "      <th>Time</th>\n",
       "      <th>User</th>\n",
       "      <th>Tweet</th>\n",
       "      <th>tweet_ID</th>\n",
       "    </tr>\n",
       "  </thead>\n",
       "  <tbody>\n",
       "    <tr>\n",
       "      <th>0</th>\n",
       "      <td>2023-02-03 20:07:56+00:00</td>\n",
       "      <td>BarelyBook</td>\n",
       "      <td>Absolutely hilarious that people who don't eve...</td>\n",
       "      <td>1621601401028632588</td>\n",
       "    </tr>\n",
       "    <tr>\n",
       "      <th>1</th>\n",
       "      <td>2023-02-03 20:05:00+00:00</td>\n",
       "      <td>EpochTimes</td>\n",
       "      <td>“The biggest reason I’m running is because I w...</td>\n",
       "      <td>1621600661883310081</td>\n",
       "    </tr>\n",
       "    <tr>\n",
       "      <th>2</th>\n",
       "      <td>2023-02-03 20:00:51+00:00</td>\n",
       "      <td>DHSWI</td>\n",
       "      <td>Way to head into the #weekend Wisconsin! No co...</td>\n",
       "      <td>1621599618495569924</td>\n",
       "    </tr>\n",
       "    <tr>\n",
       "      <th>3</th>\n",
       "      <td>2023-02-03 19:58:12+00:00</td>\n",
       "      <td>dagonzal19</td>\n",
       "      <td>I am encouraged by this @EdWeek interview with...</td>\n",
       "      <td>1621598950586302465</td>\n",
       "    </tr>\n",
       "    <tr>\n",
       "      <th>4</th>\n",
       "      <td>2023-02-03 19:54:06+00:00</td>\n",
       "      <td>Maricopahealth</td>\n",
       "      <td>No insurance? We're giving FREE vaccinations i...</td>\n",
       "      <td>1621597918015770625</td>\n",
       "    </tr>\n",
       "  </tbody>\n",
       "</table>\n",
       "</div>"
      ],
      "text/plain": [
       "                       Time            User  \\\n",
       "0 2023-02-03 20:07:56+00:00      BarelyBook   \n",
       "1 2023-02-03 20:05:00+00:00      EpochTimes   \n",
       "2 2023-02-03 20:00:51+00:00           DHSWI   \n",
       "3 2023-02-03 19:58:12+00:00      dagonzal19   \n",
       "4 2023-02-03 19:54:06+00:00  Maricopahealth   \n",
       "\n",
       "                                               Tweet             tweet_ID  \n",
       "0  Absolutely hilarious that people who don't eve...  1621601401028632588  \n",
       "1  “The biggest reason I’m running is because I w...  1621600661883310081  \n",
       "2  Way to head into the #weekend Wisconsin! No co...  1621599618495569924  \n",
       "3  I am encouraged by this @EdWeek interview with...  1621598950586302465  \n",
       "4  No insurance? We're giving FREE vaccinations i...  1621597918015770625  "
      ]
     },
     "execution_count": 33,
     "metadata": {},
     "output_type": "execute_result"
    }
   ],
   "source": [
    "keyword = 'covid19'\n",
    "limit=150\n",
    "\n",
    "tweets = tweepy.Cursor(api.search_tweets,q=keyword + 'min_replies:1 -filter:replies -filter:retweets', tweet_mode='extended',lang='en').items(limit)\n",
    "\n",
    "# Create columns for the DataFrame\n",
    "columns = ['Time', 'User', 'Tweet','tweet_ID']\n",
    "data = []\n",
    "\n",
    "# Iterate through the results and append them to the list\n",
    "for tweet in tweets:\n",
    "    data.append([tweet.created_at, tweet.user.screen_name, tweet.full_text,tweet.id])\n",
    "\n",
    "# Create a dataframe with the results\n",
    "df = pd.DataFrame(data, columns=columns)\n",
    "\n",
    "df.head()"
   ]
  },
  {
   "cell_type": "code",
   "execution_count": 34,
   "metadata": {},
   "outputs": [
    {
     "data": {
      "text/plain": [
       "(75, 4)"
      ]
     },
     "execution_count": 34,
     "metadata": {},
     "output_type": "execute_result"
    }
   ],
   "source": [
    "df.shape"
   ]
  },
  {
   "cell_type": "code",
   "execution_count": 14,
   "metadata": {},
   "outputs": [],
   "source": [
    "list_id=df.tweet_ID"
   ]
  },
  {
   "cell_type": "code",
   "execution_count": 15,
   "metadata": {},
   "outputs": [],
   "source": [
    "import time\n",
    "retweet=[]\n",
    "# Set the rate limit (e.g., 15 requests per 15 minutes)\n",
    "max_requests = 75\n",
    "time_interval = 15 * 60 # 15 minutes in seconds\n",
    "\n",
    "# Keep track of the number of requests and the time of the last request\n",
    "request_count = 0\n",
    "last_request_time = time.time()\n",
    "breaker=True\n",
    "# Your code to make API requests\n",
    "while breaker:\n",
    "    # Check if the rate limit has been exceeded\n",
    "    if request_count >= max_requests:\n",
    "        # Calculate the time until the next interval\n",
    "        time_until_next_interval = last_request_time + time_interval - time.time()\n",
    "        if time_until_next_interval > 0:\n",
    "            time.sleep(time_until_next_interval)\n",
    "        request_count = 0\n",
    "        last_request_time = time.time()\n",
    "    # Make an API request\n",
    "    for id in list_id:\n",
    "\n",
    "        retweet.append(api.get_retweets( id=id,count=1))\n",
    "        request_count += 1\n",
    "    # Update the request count and last request time\n",
    "    \n",
    "    last_request_time = time.time()\n",
    "\n",
    "    if request_count>=len(list_id):\n",
    "        breaker=False\n",
    "\n"
   ]
  },
  {
   "cell_type": "code",
   "execution_count": 23,
   "metadata": {},
   "outputs": [],
   "source": [
    "filtered_lists = [lst for lst in retweet if lst]"
   ]
  },
  {
   "cell_type": "code",
   "execution_count": 32,
   "metadata": {},
   "outputs": [
    {
     "name": "stdout",
     "output_type": "stream",
     "text": [
      "RT @TLAVagabond: Did US Gov Work On A Myocarditis-Inducing Virus, Then Work To Aerosolize It? Let's Look At The Facts https://t.co/AeddEYFc…\n"
     ]
    }
   ],
   "source": [
    "status = filtered_lists[0]\n",
    "if status:\n",
    "    text = status[0]._json['text']\n",
    "else:\n",
    "    text = None\n",
    "print(text)"
   ]
  }
 ],
 "metadata": {
  "kernelspec": {
   "display_name": "base",
   "language": "python",
   "name": "python3"
  },
  "language_info": {
   "codemirror_mode": {
    "name": "ipython",
    "version": 3
   },
   "file_extension": ".py",
   "mimetype": "text/x-python",
   "name": "python",
   "nbconvert_exporter": "python",
   "pygments_lexer": "ipython3",
   "version": "3.9.13"
  },
  "orig_nbformat": 4,
  "vscode": {
   "interpreter": {
    "hash": "7f9455db543eabf0020c69a7ebcb16194ca9ff6bcf159dda4a4da7ba8d8694ac"
   }
  }
 },
 "nbformat": 4,
 "nbformat_minor": 2
}
